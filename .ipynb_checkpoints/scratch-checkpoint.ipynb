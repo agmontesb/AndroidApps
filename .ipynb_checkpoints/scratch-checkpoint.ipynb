{
 "cells": [
  {
   "cell_type": "code",
   "execution_count": 1,
   "metadata": {},
   "outputs": [],
   "source": [
    "import struct\n",
    "import binascii"
   ]
  },
  {
   "cell_type": "code",
   "execution_count": 2,
   "metadata": {},
   "outputs": [
    {
     "name": "stdout",
     "output_type": "stream",
     "text": [
      "Original: (1, 'ab', 2.7)\n"
     ]
    }
   ],
   "source": [
    "s = struct.Struct('I 2s f')\n",
    "values = (1, 'ab', 2.7)\n",
    "print 'Original:', values"
   ]
  },
  {
   "cell_type": "code",
   "execution_count": 3,
   "metadata": {},
   "outputs": [
    {
     "name": "stdout",
     "output_type": "stream",
     "text": [
      "Before  : 000000000000000000000000\n",
      "After   : 0100000061620000cdcc2c40\n",
      "Unpacked: (1, 'ab', 2.700000047683716)\n"
     ]
    }
   ],
   "source": [
    "import array\n",
    "a = array.array('c', '\\0' * s.size)\n",
    "print 'Before  :', binascii.hexlify(a)\n",
    "s.pack_into(a, 0, *values)\n",
    "print 'After   :', binascii.hexlify(a)\n",
    "print 'Unpacked:', s.unpack_from(a, 0)"
   ]
  },
  {
   "cell_type": "code",
   "execution_count": 68,
   "metadata": {},
   "outputs": [],
   "source": [
    "class Parcel(object):\n",
    "    def __init__(self):\n",
    "        self.block = block = 50\n",
    "        self._data_pointer = 0\n",
    "        self._data_size = 0\n",
    "        self._buffer = array.array('c')\n",
    "        self.setDataCapacity(block)\n",
    "        primitives = [('byte', 'h'),\n",
    "                      ('double', 'd'),\n",
    "                      ('float', 'f'),\n",
    "                      ('integer', 'i'),\n",
    "                      ('long', 'q'),\n",
    "                      ('string', 'p'),\n",
    "                     ]\n",
    "        self.primitives = dict((x[0], struct.Struct(x[1])) for x in primitives)\n",
    "        pass\n",
    "    \n",
    "    def dataAvail(self):\n",
    "        \"\"\"\n",
    "        Returns the amount of data remaining to be read from the\n",
    "        parcel.\n",
    "        \"\"\"\n",
    "        return self.dataSize() - self.dataPosition()\n",
    "\n",
    "    def dataCapacity(self):\n",
    "        \"\"\"\n",
    "        Returns the total amount of space in the parcel.\n",
    "        \"\"\"\n",
    "        return len(self._buffer)\n",
    "\n",
    "    def dataPosition(self):\n",
    "        \"\"\"\n",
    "        Returns the current position in the parcel data.\n",
    "        \"\"\"\n",
    "        return self._data_pointer\n",
    "\n",
    "    def dataSize(self):\n",
    "        \"\"\"\n",
    "        Returns the total amount of data contained in the parcel.\n",
    "        \"\"\"\n",
    "        return self._data_size\n",
    "\n",
    "    def marshall(self):\n",
    "        \"\"\"\n",
    "        Returns the raw bytes of the parcel.\n",
    "        \"\"\"\n",
    "        return self._buffer\n",
    "    \n",
    "    def setDataCapacity(self, size):\n",
    "        \"\"\"\n",
    "        Change the capacity (current available space) of the parcel.\n",
    "        \"\"\"\n",
    "        datasize = self.dataSize()\n",
    "        if size > datasize:\n",
    "            delta = size - datasize\n",
    "            self._buffer = self._buffer[:datasize] + array.array('c', '\\0' * delta)\n",
    "        pass\n",
    "\n",
    "    def setDataPosition(self, pos):\n",
    "        \"\"\"\n",
    "        Move the current read/write position in the parcel.\n",
    "        \"\"\"\n",
    "        self._pointer = pos\n",
    "\n",
    "    def setDataSize(self, size):\n",
    "        \"\"\"\n",
    "        Change the amount of data in the parcel.\n",
    "        \"\"\"\n",
    "        self._data_amount = size\n",
    "\n",
    "    def unmarshall(self, data, offset, length):\n",
    "        \"\"\"\n",
    "        Set the bytes in data to be the raw bytes of this Parcel.\n",
    "        \"\"\"\n",
    "        pass\n",
    "    \n",
    "    def _writeData(self, dataType, value):\n",
    "        s = self.primitives[dataType]\n",
    "        bytesToWrite = s.size\n",
    "        dataSize = self.dataSize()\n",
    "        if self.dataCapacity() - dataSize < bytesToWrite:\n",
    "            size = self.dataCapacity() + self.block\n",
    "            self.setDataCapacity(size)\n",
    "        pos = self.dataPosition()\n",
    "        s.pack_into(self._buffer, pos, value)\n",
    "        self.setDataPosition(pos + bytesToWrite)\n",
    "        self.setDataSize(dataSize + bytesToWrite)\n",
    "        \n",
    "    def _readData(self, dataType):\n",
    "        s = self.primitives[dataType]\n",
    "        bytesToRead = s.size\n",
    "        if self.dataAvail() < bytesToRead:\n",
    "            return None\n",
    "        pos = self.dataPosition()\n",
    "        self.setDataPosition(pos + bytesToRead)\n",
    "        return s.unpack_from(self._buffer, pos)\n",
    "        \n",
    "        \n",
    "    \n",
    "    def readByte(self):\n",
    "        \"\"\"\n",
    "        Read a byte value from the parcel at the current dataPosition().\n",
    "        \"\"\"\n",
    "        return self._readData('byte')\n",
    "    \n",
    "    def readDouble(self):\n",
    "        \"\"\"\n",
    "        Read a double precision floating point value from the parcel at the\n",
    "        current dataPosition().\n",
    "        \"\"\"\n",
    "        return self._readData('double')\n",
    "\n",
    "    def readFloat(self):\n",
    "        \"\"\"\n",
    "        Read a floating point value from the parcel at the current\n",
    "        dataPosition().\n",
    "        \"\"\"\n",
    "        return self._readData('float')\n",
    "\n",
    "    def readInt(self):\n",
    "        \"\"\"\n",
    "        Read an integer value from the parcel at the current dataPosition().\n",
    "        \"\"\"\n",
    "        return self._readData('integer')\n",
    "\n",
    "    def readLong(self):\n",
    "        \"\"\"\n",
    "        Read a long integer value from the parcel at the current dataPosition().\n",
    "        \"\"\"\n",
    "        return self._readData('long')\n",
    "\n",
    "    def readString(self):\n",
    "        \"\"\"\n",
    "        Read a string value from the parcel at the current dataPosition().\n",
    "        \"\"\"\n",
    "        return self._readData('string')\n",
    "\n",
    "    def writeByte(self, val):\n",
    "        \"\"\"\n",
    "        Write a byte value into the parcel at the current dataPosition(),\n",
    "        growing dataCapacity() if needed.\n",
    "        \"\"\"\n",
    "        self._writeData('byte', val)\n",
    "        pass\n",
    "\n",
    "    def writeDouble(self, val):\n",
    "        \"\"\"\n",
    "        Write a double precision floating point value into the parcel at the\n",
    "        current dataPosition(), growing dataCapacity() if needed.\n",
    "        \"\"\"\n",
    "        self._writeData('double', val)\n",
    "        pass\n",
    "\n",
    "    def writeFloat(self, val):\n",
    "        \"\"\"\n",
    "        Write a floating point value into the parcel at the current\n",
    "        dataPosition(), growing dataCapacity() if needed.\n",
    "        \"\"\"\n",
    "        self._writeData('float', val)\n",
    "        pass\n",
    "\n",
    "    def writeInt(self, val):\n",
    "        \"\"\"\n",
    "        Write an integer value into the parcel at the current dataPosition(),\n",
    "        growing dataCapacity() if needed.\n",
    "        \"\"\"\n",
    "        self._writeData('integer', val)\n",
    "        pass\n",
    "    \n",
    "    def writeLong(self, val):\n",
    "        \"\"\"\n",
    "        Write a long integer value into the parcel at the current dataPosition(),\n",
    "        growing dataCapacity() if needed.\n",
    "        \"\"\"\n",
    "        self._writeData('long', val)\n",
    "        pass\n",
    "\n",
    "    def writeString(self, val):\n",
    "        \"\"\"\n",
    "        Write a string value into the parcel at the current dataPosition(),\n",
    "        growing dataCapacity() if needed.\n",
    "        \"\"\"\n",
    "        self._writeData('string', val)\n",
    "        pass\n",
    "    \n",
    "    "
   ]
  },
  {
   "cell_type": "code",
   "execution_count": 69,
   "metadata": {},
   "outputs": [],
   "source": [
    "p = Parcel()"
   ]
  },
  {
   "cell_type": "code",
   "execution_count": 70,
   "metadata": {},
   "outputs": [],
   "source": [
    "p.writeInt(25)\n",
    "p.writeFloat(2.5)\n"
   ]
  },
  {
   "cell_type": "code",
   "execution_count": 71,
   "metadata": {},
   "outputs": [
    {
     "name": "stdout",
     "output_type": "stream",
     "text": [
      "None\n",
      "None\n"
     ]
    }
   ],
   "source": [
    "p.setDataPosition(0)\n",
    "print p.readInt()\n",
    "print p.readFloat()"
   ]
  },
  {
   "cell_type": "code",
   "execution_count": 63,
   "metadata": {},
   "outputs": [
    {
     "data": {
      "text/plain": [
       "array('c', '\\x00\\x00 @\\x00\\x00\\x00\\x00\\x00\\x00\\x00\\x00\\x00\\x00\\x00\\x00\\x00\\x00\\x00\\x00\\x00\\x00\\x00\\x00\\x00\\x00\\x00\\x00\\x00\\x00\\x00\\x00\\x00\\x00\\x00\\x00\\x00\\x00\\x00\\x00\\x00\\x00\\x00\\x00\\x00\\x00\\x00\\x00\\x00\\x00')"
      ]
     },
     "execution_count": 63,
     "metadata": {},
     "output_type": "execute_result"
    }
   ],
   "source": [
    "p.marshall()"
   ]
  },
  {
   "cell_type": "code",
   "execution_count": 67,
   "metadata": {},
   "outputs": [
    {
     "data": {
      "text/plain": [
       "0"
      ]
     },
     "execution_count": 67,
     "metadata": {},
     "output_type": "execute_result"
    }
   ],
   "source": [
    "p.dataSize()"
   ]
  },
  {
   "cell_type": "code",
   "execution_count": null,
   "metadata": {},
   "outputs": [],
   "source": []
  },
  {
   "cell_type": "code",
   "execution_count": 7,
   "metadata": {},
   "outputs": [
    {
     "data": {
      "text/plain": [
       "array('c', '\\x01\\x00\\x00\\x00ab\\x00\\x00\\xcd\\xcc,@\\x00\\x00\\x00\\x00\\x00\\x00\\x00\\x00\\x00\\x00\\x00\\x00')"
      ]
     },
     "execution_count": 7,
     "metadata": {},
     "output_type": "execute_result"
    }
   ],
   "source": [
    "b = array.array('c', '\\0' * s.size)\n",
    "a.extend(b)\n",
    "a"
   ]
  },
  {
   "cell_type": "code",
   "execution_count": 8,
   "metadata": {},
   "outputs": [
    {
     "data": {
      "text/plain": [
       "24"
      ]
     },
     "execution_count": 8,
     "metadata": {},
     "output_type": "execute_result"
    }
   ],
   "source": [
    "len(a)"
   ]
  },
  {
   "cell_type": "code",
   "execution_count": 10,
   "metadata": {},
   "outputs": [
    {
     "data": {
      "text/plain": [
       "12"
      ]
     },
     "execution_count": 10,
     "metadata": {},
     "output_type": "execute_result"
    }
   ],
   "source": [
    "s.size"
   ]
  },
  {
   "cell_type": "code",
   "execution_count": 11,
   "metadata": {},
   "outputs": [
    {
     "data": {
      "text/plain": [
       "'\\x01\\x00\\x00\\x00ab\\x00\\x00\\xcd\\xcc,@'"
      ]
     },
     "execution_count": 11,
     "metadata": {},
     "output_type": "execute_result"
    }
   ],
   "source": [
    "s.pack(*values)"
   ]
  },
  {
   "cell_type": "code",
   "execution_count": 25,
   "metadata": {},
   "outputs": [],
   "source": [
    "        primitives = [('byte', 'h'),\n",
    "                     ('double', 'd'),\n",
    "                     ('float', 'f'),\n",
    "                     ('integer', 'i'),\n",
    "                     ('long', 'q'),\n",
    "                     ('string', 'p')\n",
    "                     ]\n",
    "        primitives = dict((x[0], struct.Struct(x[1])) for x in primitives)\n"
   ]
  },
  {
   "cell_type": "code",
   "execution_count": 26,
   "metadata": {},
   "outputs": [
    {
     "name": "stdout",
     "output_type": "stream",
     "text": [
      "string 1\n",
      "double 8\n",
      "float 4\n",
      "long 8\n",
      "integer 4\n",
      "byte 2\n"
     ]
    }
   ],
   "source": [
    "for key, value in primitives.items():\n",
    "    print key, value.size"
   ]
  },
  {
   "cell_type": "code",
   "execution_count": 44,
   "metadata": {},
   "outputs": [],
   "source": [
    "buffer = array.array('c', 30*'\\0')\n",
    "pos = 0"
   ]
  },
  {
   "cell_type": "code",
   "execution_count": 48,
   "metadata": {},
   "outputs": [
    {
     "data": {
      "text/plain": [
       "4"
      ]
     },
     "execution_count": 48,
     "metadata": {},
     "output_type": "execute_result"
    }
   ],
   "source": [
    "dataType = 'integer'\n",
    "value = 325\n",
    "s = primitives[dataType]\n",
    "bytesToAdd = s.size\n",
    "bytesToAdd"
   ]
  },
  {
   "cell_type": "code",
   "execution_count": 49,
   "metadata": {},
   "outputs": [],
   "source": [
    "s.pack_into(buffer, pos, value)\n",
    "pos += bytesToAdd"
   ]
  },
  {
   "cell_type": "code",
   "execution_count": 50,
   "metadata": {},
   "outputs": [
    {
     "data": {
      "text/plain": [
       "array('c', '\\x00\\x00P@E\\x01\\x00\\x00\\x00\\x00\\x00\\x00\\x00\\x00\\x00\\x00\\x00\\x00\\x00\\x00\\x00\\x00\\x00\\x00\\x00\\x00\\x00\\x00\\x00\\x00')"
      ]
     },
     "execution_count": 50,
     "metadata": {},
     "output_type": "execute_result"
    }
   ],
   "source": [
    "buffer"
   ]
  },
  {
   "cell_type": "code",
   "execution_count": 51,
   "metadata": {},
   "outputs": [
    {
     "data": {
      "text/plain": [
       "8"
      ]
     },
     "execution_count": 51,
     "metadata": {},
     "output_type": "execute_result"
    }
   ],
   "source": [
    "pos"
   ]
  },
  {
   "cell_type": "code",
   "execution_count": null,
   "metadata": {},
   "outputs": [],
   "source": []
  }
 ],
 "metadata": {
  "kernelspec": {
   "display_name": "Python 2",
   "language": "python",
   "name": "python2"
  },
  "language_info": {
   "codemirror_mode": {
    "name": "ipython",
    "version": 2
   },
   "file_extension": ".py",
   "mimetype": "text/x-python",
   "name": "python",
   "nbconvert_exporter": "python",
   "pygments_lexer": "ipython2",
   "version": "2.7.14"
  }
 },
 "nbformat": 4,
 "nbformat_minor": 2
}
