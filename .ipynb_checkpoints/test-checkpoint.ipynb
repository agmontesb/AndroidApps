{
 "cells": [
  {
   "cell_type": "code",
   "execution_count": 21,
   "metadata": {},
   "outputs": [],
   "source": [
    "import Android as android\n",
    "from Android.Resources import Resources\n",
    "import sqlite3\n",
    "import re"
   ]
  },
  {
   "cell_type": "code",
   "execution_count": 2,
   "metadata": {},
   "outputs": [],
   "source": [
    "context = dict(android=android.R)\n",
    "res = Resources(context)"
   ]
  },
  {
   "cell_type": "code",
   "execution_count": 3,
   "metadata": {},
   "outputs": [],
   "source": [
    "def unpack_attribs(styleable_id):\n",
    "    styleable_id = filter(lambda x: bool(x), styleable_id)\n",
    "    array = map(lambda x:res._unpack_pointer(x).attrib, styleable_id)\n",
    "    return [(x['name'], x.get('format', 'String')) for x in array]"
   ]
  },
  {
   "cell_type": "markdown",
   "metadata": {},
   "source": [
    "#### Tipo de componente y resid"
   ]
  },
  {
   "cell_type": "code",
   "execution_count": 4,
   "metadata": {},
   "outputs": [],
   "source": [
    "NS_MAP = \"xmlns:map\"\n",
    "\n",
    "def parse_nsmap(file):\n",
    "    events = \"start\", \"start-ns\", \"end-ns\"\n",
    "    root = None\n",
    "    ns_map = []\n",
    "    for event, elem in ET.iterparse(file, events):\n",
    "        if event == \"start-ns\":\n",
    "            ns_map.append(elem)\n",
    "        elif event == \"end-ns\":\n",
    "            ns_map.pop()\n",
    "        elif event == \"start\":\n",
    "            if root is None:\n",
    "                root = elem\n",
    "            elem.set(NS_MAP, dict(ns_map))\n",
    "    return ET.ElementTree(root)\n"
   ]
  },
  {
   "cell_type": "code",
   "execution_count": 32,
   "metadata": {},
   "outputs": [],
   "source": [
    "def get_manifest_attrib_name(tag_name):\n",
    "    equiv = {\n",
    "        'compatible-screens':'compatible-screens-screen',\n",
    "        'manifest':'',\n",
    "        'uses-permission-sdk-23':'uses-permission'\n",
    "            }\n",
    "    tag_name = equiv.get(tag_name, tag_name)\n",
    "    attrname = 'AndroidManifest' + tag_name.title().replace('-', '')\n",
    "    assert hasattr(android.R.styleable, attrname), 'No tag description'\n",
    "    return attrname"
   ]
  },
  {
   "cell_type": "code",
   "execution_count": 33,
   "metadata": {},
   "outputs": [],
   "source": [
    "def get_manifest_tag_attibs(tag_name):\n",
    "    attrname = get_manifest_attrib_name(tag_name)\n",
    "    styleable_id = getattr(android.R.styleable, attrname)\n",
    "    styleable_id = filter(lambda x: bool(x), styleable_id)\n",
    "    array = map(lambda x:res._unpack_pointer(x).attrib, styleable_id)\n",
    "    return [(x['name'], x.get('format', 'String')) for x in array]"
   ]
  },
  {
   "cell_type": "code",
   "execution_count": 7,
   "metadata": {},
   "outputs": [],
   "source": [
    "def list_db_tables(conn):\n",
    "    try:\n",
    "        cursor = conn.execute(\"SELECT name FROM sqlite_master WHERE type='table';\")\n",
    "    except:\n",
    "        pass\n",
    "    else:\n",
    "        return [x[0] for x in cursor]\n",
    "    finally:\n",
    "        cursor.close()\n"
   ]
  },
  {
   "cell_type": "code",
   "execution_count": 8,
   "metadata": {},
   "outputs": [],
   "source": [
    "def get_table_name(tag):\n",
    "    return  tag.title().replace('-', '')\n"
   ]
  },
  {
   "cell_type": "code",
   "execution_count": 9,
   "metadata": {},
   "outputs": [],
   "source": [
    "def list_table_fields(conn, table_name):\n",
    "    sql = \"PRAGMA table_info('%s');\" % table_name\n",
    "    try:\n",
    "        cursor = conn.execute(sql)\n",
    "    except:\n",
    "        pass\n",
    "    else:\n",
    "        return [x[1] for x in cursor.fetchall()]\n",
    "    finally:\n",
    "        cursor.close()\n"
   ]
  },
  {
   "cell_type": "code",
   "execution_count": 10,
   "metadata": {},
   "outputs": [],
   "source": [
    "def create_table(conn, table_name):\n",
    "    equivTypes = dict(\n",
    "        integer='INTEGER',\n",
    "        string='TEXT',\n",
    "    )\n",
    "    attribs = get_manifest_tag_attibs(table_name)\n",
    "    sql = 'CREATE TABLE %s (id INTEGER PRIMARY KEY, parent INTEGER, %s);'\n",
    "    if table_name == 'manifest':\n",
    "        sql = sql.replace(', parent INTEGER,', ', package TEXT,')\n",
    "    columns = ''\n",
    "#     fcn = lambda x: '%s %s' % (x[0], equivTypes.get(x[1], 'BLOB'))\n",
    "    fcn = lambda x: '%s %s' % (x[0], 'TEXT')\n",
    "    columns = map(fcn, attribs)\n",
    "    columns = ', '.join(columns)\n",
    "    table_name = table_name.title().replace('-', '')\n",
    "    sql = sql % (table_name, columns)\n",
    "    conn.execute(sql)"
   ]
  },
  {
   "cell_type": "code",
   "execution_count": 11,
   "metadata": {},
   "outputs": [],
   "source": [
    "def update_table(conn, table_name, value_map):\n",
    "    fields = list_table_fields(conn, table_name)\n",
    "    to_update = list(value_map.viewkeys() & set(fields))\n",
    "    column_values = [value_map.get(x) for x in to_update]\n",
    "    \n",
    "    sql = 'INSERT INTO %s (%s) VALUES (%s)'\n",
    "    column_names = ', '.join(to_update)\n",
    "    column_placer = ', '.join(len(to_update)*['?'])\n",
    "    sql = sql % (table_name, column_names, column_placer)\n",
    "    \n",
    "    try:\n",
    "        cursor = conn.execute(sql, column_values)\n",
    "    except:\n",
    "        pass\n",
    "    else:\n",
    "        return cursor.lastrowid\n",
    "    finally:\n",
    "        cursor.close()\n",
    "\n"
   ]
  },
  {
   "cell_type": "code",
   "execution_count": 12,
   "metadata": {},
   "outputs": [],
   "source": [
    "def fmtTable(alist, headers=None):\n",
    "    rowFmt = (len(alist[0])*'|{:>10}' + '|')\n",
    "    fnc = lambda x: rowFmt.format(*x)\n",
    "    fmtList = map(fnc, alist)\n",
    "    if headers:\n",
    "        header = [len(fmtList[0])*'-', \n",
    "                  rowFmt.format(*headers), \n",
    "                  len(fmtList[0])*'-']\n",
    "        fmtList = header + fmtList\n",
    "    return fmtList"
   ]
  },
  {
   "cell_type": "code",
   "execution_count": 13,
   "metadata": {},
   "outputs": [],
   "source": [
    "def query(db, sqlSeq, values=None):\n",
    "    sql = ' '. join(sqlSeq)\n",
    "    args = (sql, )\n",
    "    if values:\n",
    "        args += (values,)\n",
    "    try:\n",
    "        cursor = db.execute(*args) \n",
    "    except:\n",
    "        pass\n",
    "    else:\n",
    "        headers = [x[0] for x in cursor.description]\n",
    "        table = cursor.fetchall()\n",
    "        cursor.close()\n",
    "        if table:\n",
    "            print '\\n'.join(fmtTable(table, headers))\n",
    "        return table "
   ]
  },
  {
   "cell_type": "code",
   "execution_count": 14,
   "metadata": {},
   "outputs": [],
   "source": [
    "manifest_tags = [\n",
    "    '<action>',\n",
    "     '<activity>',\n",
    "     '<activity-alias>',\n",
    "     '<application>',\n",
    "     '<category>',\n",
    "     '<compatible-screens>', # <compatible-screens-screen>\n",
    "     '<data>',\n",
    "     '<grant-uri-permission>',\n",
    "     '<instrumentation>',\n",
    "     '<intent-filter>',\n",
    "     '<manifest>', # <>\n",
    "     '<meta-data>',\n",
    "     '<path-permission>',\n",
    "     '<permission>',\n",
    "     '<permission-group>',\n",
    "     '<permission-tree>',\n",
    "     '<provider>',\n",
    "     '<receiver>',\n",
    "     '<service>',\n",
    "     '<supports-gl-texture>',\n",
    "     '<supports-screens>',\n",
    "     '<uses-configuration>',\n",
    "     '<uses-feature>',\n",
    "     '<uses-library>',\n",
    "     '<uses-permission>',\n",
    "     '<uses-permission-sdk-23>', # '<uses-permission>'\n",
    "     '<uses-sdk>'\n",
    "]"
   ]
  },
  {
   "cell_type": "code",
   "execution_count": null,
   "metadata": {},
   "outputs": [],
   "source": [
    "for tag_name in manifest_tags:\n",
    "    try:\n",
    "        attrname = get_manifest_attrib_name(tag_name[1:-1])\n",
    "    except AssertionError:\n",
    "        print tag_name"
   ]
  },
  {
   "cell_type": "code",
   "execution_count": 34,
   "metadata": {},
   "outputs": [
    {
     "data": {
      "text/plain": [
       "[('allowEmbedded', 'boolean'),\n",
       " ('allowTaskReparenting', 'boolean'),\n",
       " ('alwaysFocusable', 'boolean'),\n",
       " ('alwaysRetainTaskState', 'boolean'),\n",
       " ('autoRemoveFromRecents', 'boolean'),\n",
       " ('banner', 'reference'),\n",
       " ('clearTaskOnLaunch', 'boolean'),\n",
       " ('colorMode', 'String'),\n",
       " ('configChanges', 'String'),\n",
       " ('description', 'reference'),\n",
       " ('directBootAware', 'boolean'),\n",
       " ('documentLaunchMode', 'String'),\n",
       " ('enableVrMode', 'string'),\n",
       " ('enabled', 'boolean'),\n",
       " ('excludeFromRecents', 'boolean'),\n",
       " ('exported', 'boolean'),\n",
       " ('finishOnCloseSystemDialogs', 'boolean'),\n",
       " ('finishOnTaskLaunch', 'boolean'),\n",
       " ('hardwareAccelerated', 'boolean'),\n",
       " ('icon', 'reference'),\n",
       " ('immersive', 'boolean'),\n",
       " ('label', 'reference|string'),\n",
       " ('launchMode', 'String'),\n",
       " ('lockTaskMode', 'String'),\n",
       " ('logo', 'reference'),\n",
       " ('maxAspectRatio', 'float'),\n",
       " ('maxRecents', 'integer'),\n",
       " ('multiprocess', 'boolean'),\n",
       " ('name', 'string'),\n",
       " ('noHistory', 'boolean'),\n",
       " ('parentActivityName', 'string'),\n",
       " ('permission', 'string'),\n",
       " ('persistableMode', 'String'),\n",
       " ('process', 'string'),\n",
       " ('recreateOnConfigChanges', 'String'),\n",
       " ('relinquishTaskIdentity', 'boolean'),\n",
       " ('resizeableActivity', 'boolean'),\n",
       " ('resumeWhilePausing', 'boolean'),\n",
       " ('rotationAnimation', 'String'),\n",
       " ('roundIcon', 'reference'),\n",
       " ('screenOrientation', 'String'),\n",
       " ('showForAllUsers', 'boolean'),\n",
       " ('showOnLockScreen', 'boolean'),\n",
       " ('showWhenLocked', 'boolean'),\n",
       " ('singleUser', 'boolean'),\n",
       " ('splitName', 'string'),\n",
       " ('stateNotNeeded', 'boolean'),\n",
       " ('supportsPictureInPicture', 'boolean'),\n",
       " ('systemUserOnly', 'boolean'),\n",
       " ('taskAffinity', 'string'),\n",
       " ('theme', 'reference'),\n",
       " ('turnScreenOn', 'boolean'),\n",
       " ('uiOptions', 'String'),\n",
       " ('visibleToInstantApps', 'boolean'),\n",
       " ('windowSoftInputMode', 'String')]"
      ]
     },
     "execution_count": 34,
     "metadata": {},
     "output_type": "execute_result"
    }
   ],
   "source": [
    "componentInfo = sorted(get_manifest_tag_attibs('activity'))\n",
    "componentInfo"
   ]
  },
  {
   "cell_type": "code",
   "execution_count": 35,
   "metadata": {},
   "outputs": [
    {
     "data": {
      "text/plain": [
       "[('allowEmbedded', 'boolean'),\n",
       " ('allowTaskReparenting', 'boolean'),\n",
       " ('alwaysFocusable', 'boolean'),\n",
       " ('alwaysRetainTaskState', 'boolean'),\n",
       " ('autoRemoveFromRecents', 'boolean'),\n",
       " ('clearTaskOnLaunch', 'boolean'),\n",
       " ('directBootAware', 'boolean'),\n",
       " ('enabled', 'boolean'),\n",
       " ('excludeFromRecents', 'boolean'),\n",
       " ('exported', 'boolean'),\n",
       " ('finishOnCloseSystemDialogs', 'boolean'),\n",
       " ('finishOnTaskLaunch', 'boolean'),\n",
       " ('hardwareAccelerated', 'boolean'),\n",
       " ('immersive', 'boolean'),\n",
       " ('multiprocess', 'boolean'),\n",
       " ('noHistory', 'boolean'),\n",
       " ('relinquishTaskIdentity', 'boolean'),\n",
       " ('resizeableActivity', 'boolean'),\n",
       " ('resumeWhilePausing', 'boolean'),\n",
       " ('showForAllUsers', 'boolean'),\n",
       " ('showOnLockScreen', 'boolean'),\n",
       " ('showWhenLocked', 'boolean'),\n",
       " ('singleUser', 'boolean'),\n",
       " ('stateNotNeeded', 'boolean'),\n",
       " ('supportsPictureInPicture', 'boolean'),\n",
       " ('systemUserOnly', 'boolean'),\n",
       " ('turnScreenOn', 'boolean'),\n",
       " ('visibleToInstantApps', 'boolean')]"
      ]
     },
     "execution_count": 35,
     "metadata": {},
     "output_type": "execute_result"
    }
   ],
   "source": [
    "flags = [x for x in componentInfo if x[1] == 'boolean']\n",
    "flags"
   ]
  },
  {
   "cell_type": "code",
   "execution_count": 23,
   "metadata": {},
   "outputs": [
    {
     "data": {
      "text/plain": [
       "[('banner', 'reference'),\n",
       " ('colorMode', 'String'),\n",
       " ('configChanges', 'String'),\n",
       " ('description', 'reference'),\n",
       " ('documentLaunchMode', 'String'),\n",
       " ('enableVrMode', 'string'),\n",
       " ('icon', 'reference'),\n",
       " ('label', 'reference|string'),\n",
       " ('launchMode', 'String'),\n",
       " ('lockTaskMode', 'String'),\n",
       " ('logo', 'reference'),\n",
       " ('maxAspectRatio', 'float'),\n",
       " ('maxRecents', 'integer'),\n",
       " ('name', 'string'),\n",
       " ('parentActivityName', 'string'),\n",
       " ('permission', 'string'),\n",
       " ('persistableMode', 'String'),\n",
       " ('process', 'string'),\n",
       " ('recreateOnConfigChanges', 'String'),\n",
       " ('rotationAnimation', 'String'),\n",
       " ('roundIcon', 'reference'),\n",
       " ('screenOrientation', 'String'),\n",
       " ('splitName', 'string'),\n",
       " ('taskAffinity', 'string'),\n",
       " ('theme', 'reference'),\n",
       " ('uiOptions', 'String'),\n",
       " ('windowSoftInputMode', 'String')]"
      ]
     },
     "execution_count": 23,
     "metadata": {},
     "output_type": "execute_result"
    }
   ],
   "source": [
    "fields = [x for x in componentInfo if x[1] != 'boolean']\n",
    "fields"
   ]
  },
  {
   "cell_type": "code",
   "execution_count": 26,
   "metadata": {},
   "outputs": [],
   "source": [
    "def constantName(varname):\n",
    "    varname = re.findall(r'([A-Z]*[a-z]+)', varname)\n",
    "    return 'FLAG_' + '_'.join(map(lambda x: x.upper(), varname))"
   ]
  },
  {
   "cell_type": "code",
   "execution_count": 27,
   "metadata": {},
   "outputs": [
    {
     "data": {
      "text/plain": [
       "'FLAG_EXCLUDE_FROM_RECENTS'"
      ]
     },
     "execution_count": 27,
     "metadata": {},
     "output_type": "execute_result"
    }
   ],
   "source": [
    "name = 'excludeFromRecents'\n",
    "constantName(name)"
   ]
  },
  {
   "cell_type": "code",
   "execution_count": 37,
   "metadata": {},
   "outputs": [
    {
     "data": {
      "text/plain": [
       "['FLAG_ALLOW_EMBEDDED',\n",
       " 'FLAG_ALLOW_TASK_REPARENTING',\n",
       " 'FLAG_ALWAYS_FOCUSABLE',\n",
       " 'FLAG_ALWAYS_RETAIN_TASK_STATE',\n",
       " 'FLAG_AUTO_REMOVE_FROM_RECENTS',\n",
       " 'FLAG_CLEAR_TASK_ON_LAUNCH',\n",
       " 'FLAG_DIRECT_BOOT_AWARE',\n",
       " 'FLAG_ENABLED',\n",
       " 'FLAG_EXCLUDE_FROM_RECENTS',\n",
       " 'FLAG_EXPORTED',\n",
       " 'FLAG_FINISH_ON_CLOSE_SYSTEM_DIALOGS',\n",
       " 'FLAG_FINISH_ON_TASK_LAUNCH',\n",
       " 'FLAG_HARDWARE_ACCELERATED',\n",
       " 'FLAG_IMMERSIVE',\n",
       " 'FLAG_MULTIPROCESS',\n",
       " 'FLAG_NO_HISTORY',\n",
       " 'FLAG_RELINQUISH_TASK_IDENTITY',\n",
       " 'FLAG_RESIZEABLE_ACTIVITY',\n",
       " 'FLAG_RESUME_WHILE_PAUSING',\n",
       " 'FLAG_SHOW_FOR_ALL_USERS',\n",
       " 'FLAG_SHOW_ON_LOCK_SCREEN',\n",
       " 'FLAG_SHOW_WHEN_LOCKED',\n",
       " 'FLAG_SINGLE_USER',\n",
       " 'FLAG_STATE_NOT_NEEDED',\n",
       " 'FLAG_SUPPORTS_PICTURE_IN_PICTURE',\n",
       " 'FLAG_SYSTEM_USER_ONLY',\n",
       " 'FLAG_TURN_SCREEN_ON',\n",
       " 'FLAG_VISIBLE_TO_INSTANT_APPS']"
      ]
     },
     "execution_count": 37,
     "metadata": {},
     "output_type": "execute_result"
    }
   ],
   "source": [
    "map(lambda x:constantName(x[0]), flags)"
   ]
  },
  {
   "cell_type": "code",
   "execution_count": 15,
   "metadata": {},
   "outputs": [
    {
     "data": {
      "text/plain": [
       "[('none', '0'), ('intoExisting', '1'), ('always', '2'), ('never', '3')]"
      ]
     },
     "execution_count": 15,
     "metadata": {},
     "output_type": "execute_result"
    }
   ],
   "source": [
    "resid = android.R.attr.documentLaunchMode\n",
    "elem = res._unpack_pointer(resid)\n",
    "map(lambda x:(x.attrib['name'], x.attrib['value']), list(elem))"
   ]
  },
  {
   "cell_type": "code",
   "execution_count": null,
   "metadata": {},
   "outputs": [],
   "source": [
    "android.R.integer."
   ]
  },
  {
   "cell_type": "code",
   "execution_count": null,
   "metadata": {},
   "outputs": [],
   "source": [
    "import os\n",
    "import sqlite3\n",
    "import xml.etree.ElementTree as ET\n",
    "import collections"
   ]
  },
  {
   "cell_type": "code",
   "execution_count": null,
   "metadata": {},
   "outputs": [],
   "source": [
    "path = r'./TestActivity/AndroidManifest.xml'\n",
    "conn = sqlite3.connect(':memory:')\n",
    "stack = collections.deque()"
   ]
  },
  {
   "cell_type": "code",
   "execution_count": null,
   "metadata": {},
   "outputs": [],
   "source": [
    "root = ET.parse(path).getroot()\n",
    "stack.append((None, root))\n",
    "while stack:\n",
    "    parent_id, element = stack.popleft()\n",
    "    items = [(key.split('}')[-1], value) for key, value in element.attrib.items()]\n",
    "    tag, attrib = element.tag, dict(items)\n",
    "    table_name = get_table_name(tag)\n",
    "    if table_name not in list_db_tables(conn):\n",
    "        create_table(conn, tag)\n",
    "    if parent_id:\n",
    "        attrib['parent'] = parent_id\n",
    "    tagid = update_table(conn, table_name, attrib)\n",
    "    stack.extend([(tagid, item) for item in element])"
   ]
  },
  {
   "cell_type": "markdown",
   "metadata": {},
   "source": [
    "## NUEVO INTENTO"
   ]
  },
  {
   "cell_type": "code",
   "execution_count": null,
   "metadata": {},
   "outputs": [],
   "source": [
    "path = r'./TestActivity/AndroidManifest.xml'\n",
    "conn = sqlite3.connect(':memory:')\n",
    "stack = collections.deque()"
   ]
  },
  {
   "cell_type": "code",
   "execution_count": null,
   "metadata": {},
   "outputs": [],
   "source": [
    "sql = 'CREATE TABLE manifest_tree (id INTEGER PRIMARY KEY, parent INTEGER, tag_type VARCHAR(30), content TEXT);'\n",
    "conn.execute(sql)"
   ]
  },
  {
   "cell_type": "code",
   "execution_count": null,
   "metadata": {},
   "outputs": [],
   "source": [
    "root = ET.parse(path).getroot()\n",
    "package = root.attrib.pop('package')\n",
    "stack.append((None, root))\n",
    "while stack:\n",
    "    parent_id, element = stack.popleft()\n",
    "    items = [(key.split('}')[-1], value) for key, value in element.attrib.items()]\n",
    "    tag, attrib = element.tag, dict(items)\n",
    "    content = ' '.join(['%s=\"%s\"' % x for x in attrib.items()])\n",
    "    valueMap = dict(parent=parent_id, tag_type=tag, content=content)\n",
    "    tagid = update_table(conn, 'manifest_tree', valueMap)\n",
    "    stack.extend([(tagid, item) for item in element])"
   ]
  },
  {
   "cell_type": "code",
   "execution_count": null,
   "metadata": {},
   "outputs": [],
   "source": [
    "sql = ['SELECT * FROM manifest_tree']\n",
    "result = query(conn, sql)"
   ]
  },
  {
   "cell_type": "code",
   "execution_count": null,
   "metadata": {},
   "outputs": [],
   "source": [
    "sql = ['SELECT t1.id, t1.tag_type FROM manifest_tree t1, manifest_tree t2',\n",
    "       \"WHERE t1.parent=t2.id AND\",\n",
    "       \"t1.tag_type='intent-filter' AND\",\n",
    "       \"t2.tag_type='activity'\"\n",
    "      ]\n",
    "result = query(conn, sql)"
   ]
  },
  {
   "cell_type": "code",
   "execution_count": null,
   "metadata": {},
   "outputs": [],
   "source": [
    "sql = ['SELECT * FROM manifest_tree',\n",
    "       \"WHERE parent=?\"\n",
    "      ]\n",
    "result = query(conn, sql, (5,))"
   ]
  },
  {
   "cell_type": "code",
   "execution_count": null,
   "metadata": {},
   "outputs": [],
   "source": [
    "sql = ['SELECT t1.parent, t1.tag_type FROM manifest_tree t1, manifest_tree t2',\n",
    "       \"WHERE t2.parent = t1.id\",\n",
    "       \"AND t2.content IN (?, ?)\",\n",
    "       'GROUP BY t1.parent',\n",
    "       'HAVING COUNT(*) = 2;'\n",
    "      ]\n",
    "result = query(conn, sql, \n",
    "               (\n",
    "                'name=\"android.intent.action.MAIN\"',\n",
    "                'name=\"android.intent.category.LAUNCHER\"'\n",
    "               ))"
   ]
  },
  {
   "cell_type": "code",
   "execution_count": null,
   "metadata": {},
   "outputs": [],
   "source": [
    "values = [x[0] for x in result]\n",
    "sql = ['SELECT * FROM manifest_tree',\n",
    "       \"WHERE id in (%s)\" % ', '.join(len(values)*'?')\n",
    "      ]\n",
    "dummy = query(conn, sql, values)"
   ]
  },
  {
   "cell_type": "markdown",
   "metadata": {},
   "source": [
    "===============================================================================\n",
    "### PRUEBA DE CONTENT PROVIDER"
   ]
  },
  {
   "cell_type": "code",
   "execution_count": 1,
   "metadata": {},
   "outputs": [],
   "source": [
    "import os\n",
    "import sqlite3\n",
    "import xml.etree.ElementTree as ET\n",
    "import collections"
   ]
  },
  {
   "cell_type": "code",
   "execution_count": 2,
   "metadata": {},
   "outputs": [],
   "source": [
    "from SystemManager.SystemTablesProvider import SystemTablesProvider\n",
    "from Android.Uri import Uri"
   ]
  },
  {
   "cell_type": "code",
   "execution_count": 3,
   "metadata": {},
   "outputs": [],
   "source": [
    "provider = SystemTablesProvider()"
   ]
  },
  {
   "cell_type": "code",
   "execution_count": 4,
   "metadata": {},
   "outputs": [],
   "source": [
    "path = r'./TestActivity/AndroidManifest.xml'\n",
    "stack = collections.deque()\n",
    "uri_str = 'content://com.androidapps.systemmanager/system_components'\n",
    "uri = Uri.parse(uri_str)"
   ]
  },
  {
   "cell_type": "code",
   "execution_count": null,
   "metadata": {},
   "outputs": [],
   "source": [
    "root = ET.parse(path).getroot()\n",
    "package = root.attrib.pop('package')\n",
    "stack.append((None, root))\n",
    "while stack:\n",
    "\n",
    "    parent_id, element = stack.popleft()\n",
    "    items = [(key.split('}')[-1], value) for key, value in element.attrib.items()]\n",
    "    tag, attrib = element.tag, dict(items)\n",
    "    content = ' '.join(['%s=\"%s\"' % x for x in attrib.items()])\n",
    "    valueMap = dict(parent=parent_id, tag_type=tag, content=content)\n",
    "    valueMap\n",
    "\n",
    "    item_uri = provider.insert(uri, valueMap) \n",
    "    tagid = int(item_uri.getLastPathSegment())\n",
    "\n",
    "    stack.extend([(tagid, item) for item in element])"
   ]
  },
  {
   "cell_type": "code",
   "execution_count": null,
   "metadata": {},
   "outputs": [],
   "source": []
  },
  {
   "cell_type": "code",
   "execution_count": null,
   "metadata": {},
   "outputs": [],
   "source": []
  },
  {
   "cell_type": "code",
   "execution_count": null,
   "metadata": {},
   "outputs": [],
   "source": []
  },
  {
   "cell_type": "code",
   "execution_count": null,
   "metadata": {},
   "outputs": [],
   "source": []
  },
  {
   "cell_type": "code",
   "execution_count": null,
   "metadata": {},
   "outputs": [],
   "source": []
  },
  {
   "cell_type": "code",
   "execution_count": null,
   "metadata": {},
   "outputs": [],
   "source": []
  },
  {
   "cell_type": "code",
   "execution_count": null,
   "metadata": {},
   "outputs": [],
   "source": [
    "lst_tables = list_db_tables(conn)\n",
    "lst_tables"
   ]
  },
  {
   "cell_type": "code",
   "execution_count": null,
   "metadata": {},
   "outputs": [],
   "source": [
    "cursor = conn.execute('SELECT * FROM %s' % 'Category')\n",
    "print cursor.fetchall()\n",
    "cursor.close()"
   ]
  },
  {
   "cell_type": "code",
   "execution_count": null,
   "metadata": {},
   "outputs": [],
   "source": [
    "list_table_fields(conn, 'Action')"
   ]
  },
  {
   "cell_type": "code",
   "execution_count": null,
   "metadata": {},
   "outputs": [],
   "source": [
    "stack"
   ]
  },
  {
   "cell_type": "code",
   "execution_count": null,
   "metadata": {},
   "outputs": [],
   "source": [
    "conn.close()"
   ]
  },
  {
   "cell_type": "code",
   "execution_count": null,
   "metadata": {},
   "outputs": [],
   "source": [
    "import sqlite3"
   ]
  },
  {
   "cell_type": "code",
   "execution_count": null,
   "metadata": {},
   "outputs": [],
   "source": [
    "customers = [\n",
    "    (101, 'Jhon Doe', 301, 0),\n",
    "    (102, 'Bruce Wayne', 302, 101),\n",
    "    (103, 'James Smith', None, 101)\n",
    "]"
   ]
  },
  {
   "cell_type": "code",
   "execution_count": null,
   "metadata": {},
   "outputs": [],
   "source": [
    "addresses = [\n",
    "    (301, '12 Main St., Houstn TX 77001'),\n",
    "    (302, '1007 Mountain Dr., Gotham NY 10286')\n",
    "]"
   ]
  },
  {
   "cell_type": "code",
   "execution_count": null,
   "metadata": {},
   "outputs": [],
   "source": [
    "orders = [\n",
    "    (555, 101, '12/24/09', '$156.78'),\n",
    "    (556, 102, '12/25/09', '$99.99'),\n",
    "    (557, 101, '12/26/09', '$75.00')\n",
    "]"
   ]
  },
  {
   "cell_type": "code",
   "execution_count": null,
   "metadata": {},
   "outputs": [],
   "source": [
    "items = [\n",
    "    (201, 'Tickle Me Elmo', 'it wants to be tickled'),\n",
    "    (202, 'District 9 DVD', 'Awesome sci-fi movie'),\n",
    "    (203, 'Baratag', 'It is very sharp')\n",
    "]"
   ]
  },
  {
   "cell_type": "code",
   "execution_count": null,
   "metadata": {},
   "outputs": [],
   "source": [
    "items_orders = [\n",
    "    (555, 201),\n",
    "    (555, 202),\n",
    "    (556, 202),\n",
    "    (556, 203)\n",
    "]"
   ]
  },
  {
   "cell_type": "markdown",
   "metadata": {},
   "source": [
    "#### Table creation"
   ]
  },
  {
   "cell_type": "code",
   "execution_count": null,
   "metadata": {},
   "outputs": [],
   "source": [
    "db = sqlite3.connect(':memory:')"
   ]
  },
  {
   "cell_type": "code",
   "execution_count": null,
   "metadata": {},
   "outputs": [],
   "source": [
    "sql = 'CREATE TABLE customers ('\n",
    "sql += 'customer_id INT AUTO INCREMENT PRIMARY KEY, '\n",
    "sql += 'customer_name VARCHAR(100)'\n",
    "sql += ');'\n",
    "sql1 = sql\n",
    "sql"
   ]
  },
  {
   "cell_type": "code",
   "execution_count": null,
   "metadata": {},
   "outputs": [],
   "source": [
    "sql = 'CREATE TABLE orders ('\n",
    "sql += 'order_id INT AUTO INCREMENT PRIMARY KEY, '\n",
    "sql += 'customer_id INT, '\n",
    "sql += 'amount DOUBLE, '\n",
    "sql += 'FOREIGN KEY (customer_id) REFERENCES customers(customer_id)'\n",
    "sql += ');'\n",
    "sql2 = sql\n",
    "sql"
   ]
  },
  {
   "cell_type": "code",
   "execution_count": null,
   "metadata": {},
   "outputs": [],
   "source": [
    "for sql in [sql1, sql2]:\n",
    "    db.execute(sql)"
   ]
  },
  {
   "cell_type": "code",
   "execution_count": null,
   "metadata": {},
   "outputs": [],
   "source": [
    "orders"
   ]
  },
  {
   "cell_type": "code",
   "execution_count": null,
   "metadata": {},
   "outputs": [],
   "source": [
    "sql = 'INSERT INTO orders (order_id, customer_id, amount) VALUES (?, ?, ?)'\n",
    "values = [\n",
    "    (1, 1, 19.99),\n",
    "    (2, 1, 35.15),\n",
    "    (3, 3, 17.56),\n",
    "    (4, 4, 12.34),    \n",
    "]\n",
    "db.executemany(sql, values)"
   ]
  },
  {
   "cell_type": "code",
   "execution_count": null,
   "metadata": {},
   "outputs": [],
   "source": [
    "sql = 'SELECT * FROM customers JOIN orders;'\n",
    "db.execute(sql).fetchall()"
   ]
  },
  {
   "cell_type": "code",
   "execution_count": null,
   "metadata": {},
   "outputs": [],
   "source": [
    "sql = 'SELECT * FROM customers, orders;'\n",
    "db.execute(sql).fetchall()"
   ]
  },
  {
   "cell_type": "code",
   "execution_count": null,
   "metadata": {},
   "outputs": [],
   "source": [
    "sql = 'SELECT * FROM customers NATURAL JOIN orders;'\n",
    "db.execute(sql).fetchall()"
   ]
  },
  {
   "cell_type": "code",
   "execution_count": null,
   "metadata": {},
   "outputs": [],
   "source": [
    "sql = 'SELECT * FROM customers JOIN orders WHERE customers.customer_id = orders.customer_id;'\n",
    "db.execute(sql).fetchall()"
   ]
  },
  {
   "cell_type": "code",
   "execution_count": null,
   "metadata": {},
   "outputs": [],
   "source": [
    "sql = 'SELECT * FROM customers JOIN orders'\n",
    "sql += ' ON (customers.customer_id = orders.customer_id)'\n",
    "sql += ' WHERE orders.amount > 15;'\n",
    "db.execute(sql).fetchall()"
   ]
  },
  {
   "cell_type": "code",
   "execution_count": null,
   "metadata": {},
   "outputs": [],
   "source": [
    "sql = 'SELECT * FROM customers JOIN orders'\n",
    "sql += ' USING customer_id'\n",
    "sql += ' WHERE orders.amount > 15;'\n",
    "db.execute(sql).fetchall()"
   ]
  },
  {
   "cell_type": "code",
   "execution_count": null,
   "metadata": {},
   "outputs": [],
   "source": [
    "sql = 'SELECT * FROM customers LEFT OUTER JOIN orders'\n",
    "sql += ' ON (customers.customer_id = orders.customer_id)'\n",
    "db.execute(sql).fetchall()"
   ]
  },
  {
   "cell_type": "code",
   "execution_count": null,
   "metadata": {},
   "outputs": [],
   "source": [
    "sql = 'SELECT * FROM customers LEFT OUTER JOIN orders'\n",
    "sql += ' ON (customers.customer_id = orders.customer_id'\n",
    "sql += ' AND orders.amount > 15)'\n",
    "db.execute(sql).fetchall()"
   ]
  },
  {
   "cell_type": "code",
   "execution_count": null,
   "metadata": {},
   "outputs": [],
   "source": [
    "sql = 'SELECT * FROM orders LEFT OUTER JOIN customers'\n",
    "sql += ' ON (customers.customer_id = orders.customer_id)'\n",
    "db.execute(sql).fetchall()"
   ]
  },
  {
   "cell_type": "code",
   "execution_count": null,
   "metadata": {},
   "outputs": [],
   "source": [
    "customers\n",
    "sql = 'CREATE TABLE self_join (id INT, name VARCHAR(20), fkey INT, ref INT);'\n",
    "db.execute(sql)"
   ]
  },
  {
   "cell_type": "code",
   "execution_count": null,
   "metadata": {},
   "outputs": [],
   "source": [
    "sql = 'INSERT INTO self_join VALUES (?, ?, ?, ?)'\n",
    "db.executemany(sql, customers)"
   ]
  },
  {
   "cell_type": "code",
   "execution_count": null,
   "metadata": {},
   "outputs": [],
   "source": [
    "sql = 'SELECT * FROM self_join;'\n",
    "db.execute(sql).fetchall()"
   ]
  },
  {
   "cell_type": "code",
   "execution_count": null,
   "metadata": {},
   "outputs": [],
   "source": [
    "sql = [\n",
    "    'SELECT DISTINCT t2.id, t2.name, t1.name',\n",
    "    'FROM self_join t1, self_join t2',\n",
    "    'WHERE t1.id = t2.ref'\n",
    "]\n",
    "sql = ' '.join(sql)\n",
    "# sql = 'SELECT DISTINCT t2.id, t2.name, t1.name FROM self_join t1, self_join t2 WHERE t1.id = t2.ref'\n",
    "db.execute(sql).fetchall()"
   ]
  },
  {
   "cell_type": "code",
   "execution_count": null,
   "metadata": {},
   "outputs": [],
   "source": [
    "sql = [\n",
    "    \"UPDATE OR ABORT self_join SET name='aLEX mONTES'\",\n",
    "    \"WHERE self_join.id = 101;\"\n",
    "]\n",
    "sql = ' '.join(sql)\n",
    "db.execute(sql)"
   ]
  },
  {
   "cell_type": "code",
   "execution_count": null,
   "metadata": {},
   "outputs": [],
   "source": [
    "sql = [\n",
    "    'SELECT t1.name, COUNT(*)',\n",
    "    'FROM self_join t1, self_join t2',\n",
    "    'WHERE t1.id = t2.ref',\n",
    "    'GROUP BY t1.name',\n",
    "    'HAVING COUNT(*) = 2;'\n",
    "]\n",
    "result = query(db, sql)"
   ]
  },
  {
   "cell_type": "code",
   "execution_count": null,
   "metadata": {},
   "outputs": [],
   "source": [
    "sql = ['SELECT * FROM self_join;']\n",
    "result = query(db, sql)"
   ]
  },
  {
   "cell_type": "code",
   "execution_count": null,
   "metadata": {},
   "outputs": [],
   "source": []
  },
  {
   "cell_type": "code",
   "execution_count": null,
   "metadata": {},
   "outputs": [],
   "source": []
  },
  {
   "cell_type": "code",
   "execution_count": null,
   "metadata": {},
   "outputs": [],
   "source": []
  },
  {
   "cell_type": "code",
   "execution_count": null,
   "metadata": {},
   "outputs": [],
   "source": []
  },
  {
   "cell_type": "code",
   "execution_count": null,
   "metadata": {},
   "outputs": [],
   "source": []
  },
  {
   "cell_type": "code",
   "execution_count": null,
   "metadata": {},
   "outputs": [],
   "source": [
    "db.close()"
   ]
  },
  {
   "cell_type": "code",
   "execution_count": null,
   "metadata": {},
   "outputs": [],
   "source": [
    "x = (1, 2, 3, 4)"
   ]
  },
  {
   "cell_type": "code",
   "execution_count": null,
   "metadata": {},
   "outputs": [],
   "source": [
    "(len(x)*'|{:>5}' + '|').format(*x)"
   ]
  }
 ],
 "metadata": {
  "kernelspec": {
   "display_name": "Python 2",
   "language": "python",
   "name": "python2"
  },
  "language_info": {
   "codemirror_mode": {
    "name": "ipython",
    "version": 2
   },
   "file_extension": ".py",
   "mimetype": "text/x-python",
   "name": "python",
   "nbconvert_exporter": "python",
   "pygments_lexer": "ipython2",
   "version": "2.7.14"
  }
 },
 "nbformat": 4,
 "nbformat_minor": 2
}
