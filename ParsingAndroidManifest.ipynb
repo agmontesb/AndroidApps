{
 "cells": [
  {
   "cell_type": "code",
   "execution_count": 1,
   "metadata": {},
   "outputs": [],
   "source": [
    "import sqlite3\n",
    "import re\n",
    "import inspect\n",
    "import collections\n",
    "import importlib\n",
    "import xml.etree.ElementTree as ET\n",
    "\n",
    "import Android as android\n",
    "# from Android.IntentFilter import IntentFilter\n",
    "from Android.Os.Bundle import Bundle\n",
    "from Android.Os.Parcel import Parcel\n",
    "from Android.content.res.Resources import Resources\n",
    "from Android.content.pm.ActivityInfo import ActivityInfo\n",
    "from Android.content.pm.ApplicationInfo import ApplicationInfo\n",
    "from Android.content.pm.PackageInfo  import PackageInfo\n",
    "from Android.content.pm.ProviderInfo import ProviderInfo\n",
    "import TestActivity \n"
   ]
  },
  {
   "cell_type": "code",
   "execution_count": 2,
   "metadata": {},
   "outputs": [],
   "source": [
    "NS_MAP = \"xmlns:map\"\n",
    "\n",
    "def parse_nsmap(file):\n",
    "    events = \"start\", \"start-ns\", \"end-ns\"\n",
    "    root = None\n",
    "    ns_map = []\n",
    "    for event, elem in ET.iterparse(file, events):\n",
    "        if event == \"start-ns\":\n",
    "            ns_map.append(elem)\n",
    "        elif event == \"end-ns\":\n",
    "            ns_map.pop()\n",
    "        elif event == \"start\":\n",
    "            if root is None:\n",
    "                root = elem\n",
    "            elem.set(NS_MAP, dict(ns_map))\n",
    "    return ET.ElementTree(root)\n"
   ]
  },
  {
   "cell_type": "code",
   "execution_count": 3,
   "metadata": {},
   "outputs": [],
   "source": [
    "class AndroidManifest(android.Object):\n",
    "    def __init__(self, filepath, context):\n",
    "        self._filepath = filepath\n",
    "        self._resources = Resources(context)\n",
    "\n",
    "    @staticmethod\n",
    "    def get_manifest_attrib_name(tag_name):\n",
    "        equiv = {\n",
    "            'compatible-screens':'compatible-screens-screen',\n",
    "            'manifest':'',\n",
    "            'uses-permission-sdk-23':'uses-permission'\n",
    "                }\n",
    "        tag_name = equiv.get(tag_name, tag_name)\n",
    "        attrname = 'AndroidManifest' + tag_name.title().replace('-', '')\n",
    "        assert hasattr(android.R.styleable, attrname), 'No tag description'\n",
    "        return attrname\n",
    "    \n",
    "    def get_manifest_tag_attribs(self, attrname):\n",
    "        res = self._resources\n",
    "        styleable_id = getattr(android.R.styleable, attrname)\n",
    "        styleable_id = filter(lambda x: bool(x), styleable_id)\n",
    "        array = map(lambda x:res._unpack_pointer(x).attrib, styleable_id)\n",
    "        return [(x['name'], x.get('format', 'String')) for x in array]\n",
    "        \n",
    "    @staticmethod\n",
    "    def clasifyFields(fields, aninst):\n",
    "        def fromFlagToField(x):\n",
    "            w = x.split('_')[1:]\n",
    "            return reduce(lambda x, y: x + y.title(), w[1:], w[0].lower())\n",
    "        flagnames = filter(lambda x: x.startswith('FLAG_'), dir(inspect.getmodule(aninst)))\n",
    "        flags = map(fromFlagToField, flagnames)\n",
    "        fieldsFlags = set(fields).intersection(flags)\n",
    "        attribs = sorted(vars(aninst).keys())\n",
    "        fieldsAttribs = set(fields).intersection(attribs)\n",
    "        unclassFields = set(fields).difference(fieldsFlags.union(fieldsAttribs))\n",
    "        return fieldsFlags, fieldsAttribs, unclassFields\n",
    "    \n",
    "    def parse_component(self, etelement):\n",
    "        try:\n",
    "            etelement.attrib.pop('xmlns:map')\n",
    "        except:\n",
    "            pass\n",
    "        # Se limpian los prefijos de los items\n",
    "        attribitems = etelement.attrib.items()\n",
    "        keys, values = zip(*attribitems)\n",
    "        keys = [x.split('}')[-1] for x in keys]\n",
    "        attribset = dict(zip(keys, values))\n",
    "        \n",
    "        manifest_attr_name = self.get_manifest_attrib_name(etelement.tag)\n",
    "        styleable_id = getattr(android.R.styleable, manifest_attr_name)\n",
    "        fieldvalues = self._resources.obtainAtributes(attribset, styleable_id)\n",
    "        fieldnames, fieldtypes = zip(*self.get_manifest_tag_attribs(manifest_attr_name))\n",
    "        answ = [x for x in zip(fieldnames,fieldvalues) if x[0] in attribset]\n",
    "        attribset.update(answ)\n",
    "        return attribset.items()\n",
    "    \n",
    "    @staticmethod\n",
    "    def parse_nsmap(file):\n",
    "        NS_MAP = \"xmlns:map\"\n",
    "        events = \"start\", \"start-ns\", \"end-ns\"\n",
    "        root = None\n",
    "        ns_map = []\n",
    "        for event, elem in ET.iterparse(file, events):\n",
    "            if event == \"start-ns\":\n",
    "                ns_map.append(elem)\n",
    "            elif event == \"end-ns\":\n",
    "                ns_map.pop()\n",
    "            elif event == \"start\":\n",
    "                if root is None:\n",
    "                    root = elem\n",
    "                elem.set(NS_MAP, dict(ns_map))\n",
    "        return ET.ElementTree(root)\n",
    "    \n",
    "    def processAndroidManifest(self, manifest_path):\n",
    "        manifest_file = self._filepath\n",
    "#         db = self.getWritableDatabase()\n",
    "#         insertValueMap = lambda table_class, valueMap: \\\n",
    "#             db.insert(table_class.TABLE_NAME, None, valueMap)\n",
    "        db = []\n",
    "        insertValueMap = lambda table_class, valueMap: \\\n",
    "            db.append((table_class, None, valueMap))\n",
    "    \n",
    "\n",
    "        stack = []\n",
    "        componentStack = []\n",
    "\n",
    "        manifest = self.parse_nsmap(manifest_file).getroot()\n",
    "        package = manifest.attrib['package']\n",
    "\n",
    "        valueMap = dict(name=package, path=manifest_path)\n",
    "        insertValueMap('PACKAGE_TABLE', valueMap)\n",
    "        package_id = len(db)\n",
    "\n",
    "        stack.append((-1, manifest))\n",
    "        while stack:\n",
    "            parent_id, element = stack.pop()\n",
    "            if parent_id != -1 and componentStack[-1][0] != parent_id:\n",
    "                component_id, componentinfo = componentStack.pop()\n",
    "                print 'update db component info', component_id, componentinfo\n",
    "                parcel = Parcel()\n",
    "                componentinfo.writeToParcel(parcel, 0)\n",
    "                content = parcel.marshall()\n",
    "                table_class, dummy, valueMap = db[component_id]\n",
    "                valueMap['content'] = content\n",
    "                db[component_id] = (table_class, dummy, valueMap)\n",
    "            # items = [(key.split('}')[-1], value) for key, value in element.items()]\n",
    "            component = self.componentFactory(element.tag)\n",
    "            if component:\n",
    "                if element.tag == 'intent-filter':\n",
    "                    component.readFromXml(element)\n",
    "                else:\n",
    "                    elementparse = self.parse_component(element)\n",
    "                    flags = self.setFlagsValue(elementparse, component)\n",
    "                    attrs = self.setAttribsValue(elementparse, component)\n",
    "                    ufields = self.setUnclassifiedFields(elementparse, component, flags + attrs)\n",
    "                valueMap = dict(package_id=package_id, parent=parent_id,\n",
    "                                tag_type=element.tag, content='')\n",
    "                insertValueMap('COMPONENTS_TABLE', valueMap)\n",
    "                tagid = len(db)\n",
    "                componentStack.append((tagid, component))\n",
    "                stack.extend([(tagid, item) for item in element])\n",
    "        return db\n",
    "    \n",
    "    @staticmethod\n",
    "    def setFlagsValue(itemparse, aninst):\n",
    "        def fromFlagToField(x):\n",
    "            w = x.split('_')[1:]\n",
    "            return reduce(lambda x, y: x + y.title(), w[1:], w[0].lower())\n",
    "        itemmap = dict(itemparse)\n",
    "        module = inspect.getmodule(aninst)\n",
    "        flagnames = filter(lambda x: x.startswith('FLAG_'), dir(module))\n",
    "        if flagnames: \n",
    "            flagnames = filter(lambda x: itemmap.get(fromFlagToField(x), False), flagnames)\n",
    "            flags = reduce(lambda x, y: x | getattr(module, y), flagnames, 0)\n",
    "            aninst.flags = flags\n",
    "        return map(fromFlagToField, flagnames)\n",
    "\n",
    "    @staticmethod\n",
    "    def setAttribsValue(itemparse, aninst):\n",
    "        itemmap = dict(itemparse)\n",
    "        attribs = sorted(vars(aninst).keys())\n",
    "        fieldsAttribs = set(attribs).intersection(itemmap)\n",
    "        map(lambda x: setattr(aninst, x, itemmap[x]), fieldsAttribs)\n",
    "        return list(fieldsAttribs)\n",
    "    \n",
    "    @staticmethod\n",
    "    def setUnclassifiedFields(itemparse, aninst, classifiedFields):\n",
    "        bundle = Bundle()\n",
    "        itemmap = {key:value for key, value in itemparse if key not in classifiedFields}\n",
    "        map(lambda x: bundle.putString(x[0], '%s' % x[1]), itemmap.items())\n",
    "        aninst._unclassifiedFields = bundle\n",
    "        return itemmap.keys()\n",
    "    \n",
    "    @staticmethod\n",
    "    def componentFactory(elemtag):\n",
    "        equiv = {\n",
    "            'manifest': '.pm.PackageInfo',\n",
    "            'application': '.pm.ApplicationInfo',\n",
    "            'activity': '.pm.ActivityInfo',\n",
    "            'provider': '.pm.ProviderInfo',\n",
    "            'intent-filter': '.IntentFilter'\n",
    "        }\n",
    "        classname = equiv.get(elemtag, None)\n",
    "        if classname:\n",
    "            modulename = importlib.import_module(classname, 'Android.content')\n",
    "            cls = getattr(modulename, classname.rsplit('.', 1)[-1])\n",
    "            return cls()\n",
    "    "
   ]
  },
  {
   "cell_type": "code",
   "execution_count": 4,
   "metadata": {},
   "outputs": [],
   "source": [
    "manifest_path = '/media/amontesb/HITACHI/AndroidApps/TestActivity'\n",
    "manifest_file = '/media/amontesb/HITACHI/AndroidApps/TestActivity/AndroidManifest.xml'\n",
    "context = dict(android=android.R)\n",
    "manifestroot = parse_nsmap(manifest_file)"
   ]
  },
  {
   "cell_type": "code",
   "execution_count": 5,
   "metadata": {},
   "outputs": [],
   "source": [
    "manifest = manifestroot.getroot()\n",
    "application = manifest[0]\n",
    "provider = application[0]\n",
    "activity = application[1]  # ativities = application[1:3]"
   ]
  },
  {
   "cell_type": "code",
   "execution_count": 6,
   "metadata": {},
   "outputs": [],
   "source": [
    "am = AndroidManifest(manifest_file, context)\n",
    "self = am"
   ]
  },
  {
   "cell_type": "code",
   "execution_count": null,
   "metadata": {},
   "outputs": [],
   "source": []
  },
  {
   "cell_type": "code",
   "execution_count": 7,
   "metadata": {},
   "outputs": [],
   "source": [
    "        db = []\n",
    "        insertValueMap = lambda table_class, valueMap: \\\n",
    "            db.append((table_class, None, valueMap))\n",
    "    \n",
    "\n",
    "        stack = []\n",
    "        componentStack = []\n",
    "\n",
    "        manifest = self.parse_nsmap(manifest_file).getroot()\n",
    "        package = manifest.attrib['package']\n",
    "\n",
    "        valueMap = dict(name=package, path=manifest_path)\n",
    "        insertValueMap('PACKAGE_TABLE', valueMap)\n",
    "        package_id = len(db)\n",
    "\n",
    "        stack.append((-1, manifest))"
   ]
  },
  {
   "cell_type": "code",
   "execution_count": 8,
   "metadata": {},
   "outputs": [
    {
     "data": {
      "text/plain": [
       "('com.AdroidApps.TestActivity',\n",
       " 1,\n",
       " [(-1, <Element 'manifest' at 0x7fa9b43b55d0>)])"
      ]
     },
     "execution_count": 8,
     "metadata": {},
     "output_type": "execute_result"
    }
   ],
   "source": [
    "package, package_id, stack"
   ]
  },
  {
   "cell_type": "code",
   "execution_count": 9,
   "metadata": {},
   "outputs": [
    {
     "ename": "IndexError",
     "evalue": "list index out of range",
     "output_type": "error",
     "traceback": [
      "\u001b[0;31m\u001b[0m",
      "\u001b[0;31mIndexError\u001b[0mTraceback (most recent call last)",
      "\u001b[0;32m<ipython-input-9-56a600b76b68>\u001b[0m in \u001b[0;36m<module>\u001b[0;34m()\u001b[0m\n\u001b[0;32m----> 1\u001b[0;31m \u001b[0mcomponentStack\u001b[0m\u001b[0;34m[\u001b[0m\u001b[0;34m-\u001b[0m\u001b[0;36m1\u001b[0m\u001b[0;34m]\u001b[0m\u001b[0;34m[\u001b[0m\u001b[0;36m0\u001b[0m\u001b[0;34m]\u001b[0m\u001b[0;34m,\u001b[0m \u001b[0mstack\u001b[0m\u001b[0;34m[\u001b[0m\u001b[0;34m-\u001b[0m\u001b[0;36m1\u001b[0m\u001b[0;34m]\u001b[0m\u001b[0;34m[\u001b[0m\u001b[0;36m0\u001b[0m\u001b[0;34m]\u001b[0m\u001b[0;34m\u001b[0m\u001b[0m\n\u001b[0m",
      "\u001b[0;31mIndexError\u001b[0m: list index out of range"
     ]
    }
   ],
   "source": [
    "componentStack[-1][0], stack[-1][0]"
   ]
  },
  {
   "cell_type": "code",
   "execution_count": 36,
   "metadata": {},
   "outputs": [
    {
     "ename": "AttributeError",
     "evalue": "'ActivityInfo' object has no attribute 'activityInfo'",
     "output_type": "error",
     "traceback": [
      "\u001b[0;31m\u001b[0m",
      "\u001b[0;31mAttributeError\u001b[0mTraceback (most recent call last)",
      "\u001b[0;32m<ipython-input-36-b230fc2fa705>\u001b[0m in \u001b[0;36m<module>\u001b[0;34m()\u001b[0m\n\u001b[0;32m----> 1\u001b[0;31m \u001b[0mcomponentStack\u001b[0m\u001b[0;34m[\u001b[0m\u001b[0;34m-\u001b[0m\u001b[0;36m1\u001b[0m\u001b[0;34m]\u001b[0m\u001b[0;34m[\u001b[0m\u001b[0;36m1\u001b[0m\u001b[0;34m]\u001b[0m\u001b[0;34m.\u001b[0m\u001b[0mactivityInfo\u001b[0m \u001b[0;32mis\u001b[0m \u001b[0mNone\u001b[0m\u001b[0;34m\u001b[0m\u001b[0m\n\u001b[0m",
      "\u001b[0;31mAttributeError\u001b[0m: 'ActivityInfo' object has no attribute 'activityInfo'"
     ]
    }
   ],
   "source": [
    "componentStack[-1][1].activityInfo is None"
   ]
  },
  {
   "cell_type": "code",
   "execution_count": 37,
   "metadata": {},
   "outputs": [
    {
     "name": "stdout",
     "output_type": "stream",
     "text": [
      "update db component info 4 <Android.content.pm.ActivityInfo.ActivityInfo object at 0x7fa9b43cf0e0>\n"
     ]
    },
    {
     "ename": "error",
     "evalue": "'i' format requires -2147483648 <= number <= 2147483647",
     "output_type": "error",
     "traceback": [
      "\u001b[0;31m\u001b[0m",
      "\u001b[0;31merror\u001b[0mTraceback (most recent call last)",
      "\u001b[0;32m<ipython-input-37-f96a430799db>\u001b[0m in \u001b[0;36m<module>\u001b[0;34m()\u001b[0m\n\u001b[1;32m      4\u001b[0m     \u001b[0;32mprint\u001b[0m \u001b[0;34m'update db component info'\u001b[0m\u001b[0;34m,\u001b[0m \u001b[0mcomponent_id\u001b[0m\u001b[0;34m,\u001b[0m \u001b[0mcomponentinfo\u001b[0m\u001b[0;34m\u001b[0m\u001b[0m\n\u001b[1;32m      5\u001b[0m     \u001b[0mparcel\u001b[0m \u001b[0;34m=\u001b[0m \u001b[0mParcel\u001b[0m\u001b[0;34m(\u001b[0m\u001b[0;34m)\u001b[0m\u001b[0;34m\u001b[0m\u001b[0m\n\u001b[0;32m----> 6\u001b[0;31m     \u001b[0mcomponentinfo\u001b[0m\u001b[0;34m.\u001b[0m\u001b[0mwriteToParcel\u001b[0m\u001b[0;34m(\u001b[0m\u001b[0mparcel\u001b[0m\u001b[0;34m,\u001b[0m \u001b[0;36m0\u001b[0m\u001b[0;34m)\u001b[0m\u001b[0;34m\u001b[0m\u001b[0m\n\u001b[0m\u001b[1;32m      7\u001b[0m     \u001b[0mcontent\u001b[0m \u001b[0;34m=\u001b[0m \u001b[0mparcel\u001b[0m\u001b[0;34m.\u001b[0m\u001b[0mmarshall\u001b[0m\u001b[0;34m(\u001b[0m\u001b[0;34m)\u001b[0m\u001b[0;34m\u001b[0m\u001b[0m\n\u001b[1;32m      8\u001b[0m     \u001b[0mtable_class\u001b[0m\u001b[0;34m,\u001b[0m \u001b[0mdummy\u001b[0m\u001b[0;34m,\u001b[0m \u001b[0mvalueMap\u001b[0m \u001b[0;34m=\u001b[0m \u001b[0mdb\u001b[0m\u001b[0;34m[\u001b[0m\u001b[0mcomponent_id\u001b[0m\u001b[0;34m]\u001b[0m\u001b[0;34m\u001b[0m\u001b[0m\n",
      "\u001b[0;32m/media/amontesb/HITACHI/AndroidApps/Android/content/pm/ActivityInfo.py\u001b[0m in \u001b[0;36mwriteToParcel\u001b[0;34m(self, dest, parcelableFlags)\u001b[0m\n\u001b[1;32m    799\u001b[0m         \u001b[0mdest\u001b[0m\u001b[0;34m.\u001b[0m\u001b[0mwriteString\u001b[0m\u001b[0;34m(\u001b[0m\u001b[0mself\u001b[0m\u001b[0;34m.\u001b[0m\u001b[0mpermission\u001b[0m\u001b[0;34m)\u001b[0m\u001b[0;34m\u001b[0m\u001b[0m\n\u001b[1;32m    800\u001b[0m         \u001b[0mdest\u001b[0m\u001b[0;34m.\u001b[0m\u001b[0mwriteInt\u001b[0m\u001b[0;34m(\u001b[0m\u001b[0mself\u001b[0m\u001b[0;34m.\u001b[0m\u001b[0mpersistableMode\u001b[0m\u001b[0;34m)\u001b[0m\u001b[0;34m\u001b[0m\u001b[0m\n\u001b[0;32m--> 801\u001b[0;31m         \u001b[0mdest\u001b[0m\u001b[0;34m.\u001b[0m\u001b[0mwriteInt\u001b[0m\u001b[0;34m(\u001b[0m\u001b[0mself\u001b[0m\u001b[0;34m.\u001b[0m\u001b[0mscreenOrientation\u001b[0m\u001b[0;34m)\u001b[0m\u001b[0;34m\u001b[0m\u001b[0m\n\u001b[0m\u001b[1;32m    802\u001b[0m         \u001b[0mdest\u001b[0m\u001b[0;34m.\u001b[0m\u001b[0mwriteInt\u001b[0m\u001b[0;34m(\u001b[0m\u001b[0mself\u001b[0m\u001b[0;34m.\u001b[0m\u001b[0msoftInputMode\u001b[0m\u001b[0;34m)\u001b[0m\u001b[0;34m\u001b[0m\u001b[0m\n\u001b[1;32m    803\u001b[0m         \u001b[0mdest\u001b[0m\u001b[0;34m.\u001b[0m\u001b[0mwriteString\u001b[0m\u001b[0;34m(\u001b[0m\u001b[0mself\u001b[0m\u001b[0;34m.\u001b[0m\u001b[0mtargetActivity\u001b[0m\u001b[0;34m)\u001b[0m\u001b[0;34m\u001b[0m\u001b[0m\n",
      "\u001b[0;32m/media/amontesb/HITACHI/AndroidApps/Android/Os/Parcel.pyc\u001b[0m in \u001b[0;36mwriteInt\u001b[0;34m(self, val)\u001b[0m\n\u001b[1;32m    223\u001b[0m         \u001b[0mgrowing\u001b[0m \u001b[0mdataCapacity\u001b[0m\u001b[0;34m(\u001b[0m\u001b[0;34m)\u001b[0m \u001b[0;32mif\u001b[0m \u001b[0mneeded\u001b[0m\u001b[0;34m.\u001b[0m\u001b[0;34m\u001b[0m\u001b[0m\n\u001b[1;32m    224\u001b[0m         \"\"\"\n\u001b[0;32m--> 225\u001b[0;31m         \u001b[0mself\u001b[0m\u001b[0;34m.\u001b[0m\u001b[0m_writeData\u001b[0m\u001b[0;34m(\u001b[0m\u001b[0;34m'integer'\u001b[0m\u001b[0;34m,\u001b[0m \u001b[0mval\u001b[0m\u001b[0;34m)\u001b[0m\u001b[0;34m\u001b[0m\u001b[0m\n\u001b[0m\u001b[1;32m    226\u001b[0m         \u001b[0;32mpass\u001b[0m\u001b[0;34m\u001b[0m\u001b[0m\n\u001b[1;32m    227\u001b[0m \u001b[0;34m\u001b[0m\u001b[0m\n",
      "\u001b[0;32m/media/amontesb/HITACHI/AndroidApps/Android/Os/Parcel.pyc\u001b[0m in \u001b[0;36m_writeData\u001b[0;34m(self, dataType, value)\u001b[0m\n\u001b[1;32m    105\u001b[0m         \u001b[0mdataSize\u001b[0m \u001b[0;34m=\u001b[0m \u001b[0mself\u001b[0m\u001b[0;34m.\u001b[0m\u001b[0mdataSize\u001b[0m\u001b[0;34m(\u001b[0m\u001b[0;34m)\u001b[0m\u001b[0;34m\u001b[0m\u001b[0m\n\u001b[1;32m    106\u001b[0m         \u001b[0mpos\u001b[0m \u001b[0;34m=\u001b[0m \u001b[0mself\u001b[0m\u001b[0;34m.\u001b[0m\u001b[0mdataPosition\u001b[0m\u001b[0;34m(\u001b[0m\u001b[0;34m)\u001b[0m\u001b[0;34m\u001b[0m\u001b[0m\n\u001b[0;32m--> 107\u001b[0;31m         \u001b[0ms\u001b[0m\u001b[0;34m.\u001b[0m\u001b[0mpack_into\u001b[0m\u001b[0;34m(\u001b[0m\u001b[0mself\u001b[0m\u001b[0;34m.\u001b[0m\u001b[0m_buffer\u001b[0m\u001b[0;34m,\u001b[0m \u001b[0mpos\u001b[0m\u001b[0;34m,\u001b[0m \u001b[0mvalue\u001b[0m\u001b[0;34m)\u001b[0m\u001b[0;34m\u001b[0m\u001b[0m\n\u001b[0m\u001b[1;32m    108\u001b[0m         \u001b[0mself\u001b[0m\u001b[0;34m.\u001b[0m\u001b[0msetDataPosition\u001b[0m\u001b[0;34m(\u001b[0m\u001b[0mpos\u001b[0m \u001b[0;34m+\u001b[0m \u001b[0mbytesToWrite\u001b[0m\u001b[0;34m)\u001b[0m\u001b[0;34m\u001b[0m\u001b[0m\n\u001b[1;32m    109\u001b[0m         \u001b[0mself\u001b[0m\u001b[0;34m.\u001b[0m\u001b[0msetDataSize\u001b[0m\u001b[0;34m(\u001b[0m\u001b[0mdataSize\u001b[0m \u001b[0;34m+\u001b[0m \u001b[0mbytesToWrite\u001b[0m\u001b[0;34m)\u001b[0m\u001b[0;34m\u001b[0m\u001b[0m\n",
      "\u001b[0;31merror\u001b[0m: 'i' format requires -2147483648 <= number <= 2147483647"
     ]
    }
   ],
   "source": [
    "            parent_id, element = stack.pop()\n",
    "            if parent_id != -1 and componentStack[-1][0] != parent_id:\n",
    "                component_id, componentinfo = componentStack.pop()\n",
    "                print 'update db component info', component_id, componentinfo\n",
    "                parcel = Parcel()\n",
    "                componentinfo.writeToParcel(parcel, 0)\n",
    "                content = parcel.marshall()\n",
    "                table_class, dummy, valueMap = db[component_id]\n",
    "                valueMap['content'] = content\n",
    "                db[component_id] = (table_class, dummy, valueMap)"
   ]
  },
  {
   "cell_type": "code",
   "execution_count": 26,
   "metadata": {},
   "outputs": [
    {
     "data": {
      "text/plain": [
       "<Element 'activity' at 0x7fa9b43b5890>"
      ]
     },
     "execution_count": 26,
     "metadata": {},
     "output_type": "execute_result"
    }
   ],
   "source": [
    "element"
   ]
  },
  {
   "cell_type": "code",
   "execution_count": 27,
   "metadata": {},
   "outputs": [],
   "source": [
    "            # items = [(key.split('}')[-1], value) for key, value in element.items()]\n",
    "            component = self.componentFactory(element.tag)"
   ]
  },
  {
   "cell_type": "code",
   "execution_count": 28,
   "metadata": {},
   "outputs": [
    {
     "data": {
      "text/plain": [
       "<Android.content.pm.ActivityInfo.ActivityInfo at 0x7fa9b43cf0e0>"
      ]
     },
     "execution_count": 28,
     "metadata": {},
     "output_type": "execute_result"
    }
   ],
   "source": [
    "component"
   ]
  },
  {
   "cell_type": "code",
   "execution_count": 29,
   "metadata": {},
   "outputs": [],
   "source": [
    "            if component:\n",
    "                if element.tag == 'intent-filter':\n",
    "                    component.readFromXml(element)\n",
    "                else:\n",
    "                    elementparse = self.parse_component(element)\n",
    "                    flags = self.setFlagsValue(elementparse, component)\n",
    "                    attrs = self.setAttribsValue(elementparse, component)\n",
    "                    ufields = self.setUnclassifiedFields(elementparse, component, flags + attrs)\n",
    "                valueMap = dict(package_id=package_id, parent=parent_id,\n",
    "                                tag_type=element.tag, content='')\n",
    "                insertValueMap('COMPONENTS_TABLE', valueMap)\n",
    "                tagid = len(db)\n",
    "                componentStack.append((tagid, component))\n",
    "                stack.extend([(tagid, item) for item in element])"
   ]
  },
  {
   "cell_type": "code",
   "execution_count": 30,
   "metadata": {},
   "outputs": [
    {
     "data": {
      "text/plain": [
       "([(3, <Element 'provider' at 0x7fa9b43b5650>),\n",
       "  (3, <Element 'activity' at 0x7fa9b43b5750>)],\n",
       " [(2, <Android.content.pm.PackageInfo.PackageInfo at 0x7fa9b4110f80>),\n",
       "  (3, <Android.content.pm.ApplicationInfo.ApplicationInfo at 0x7fa9b4113170>),\n",
       "  (4, <Android.content.pm.ActivityInfo.ActivityInfo at 0x7fa9b43cf0e0>)])"
      ]
     },
     "execution_count": 30,
     "metadata": {},
     "output_type": "execute_result"
    }
   ],
   "source": [
    "stack, componentStack"
   ]
  },
  {
   "cell_type": "code",
   "execution_count": 31,
   "metadata": {},
   "outputs": [
    {
     "data": {
      "text/plain": [
       "[('PACKAGE_TABLE',\n",
       "  None,\n",
       "  {'name': 'com.AdroidApps.TestActivity',\n",
       "   'path': '/media/amontesb/HITACHI/AndroidApps/TestActivity'}),\n",
       " ('COMPONENTS_TABLE',\n",
       "  None,\n",
       "  {'content': '', 'package_id': 1, 'parent': -1, 'tag_type': 'manifest'}),\n",
       " ('COMPONENTS_TABLE',\n",
       "  None,\n",
       "  {'content': '', 'package_id': 1, 'parent': 2, 'tag_type': 'application'}),\n",
       " ('COMPONENTS_TABLE',\n",
       "  None,\n",
       "  {'content': '', 'package_id': 1, 'parent': 3, 'tag_type': 'activity'})]"
      ]
     },
     "execution_count": 31,
     "metadata": {},
     "output_type": "execute_result"
    }
   ],
   "source": [
    "db"
   ]
  },
  {
   "cell_type": "code",
   "execution_count": null,
   "metadata": {},
   "outputs": [],
   "source": []
  },
  {
   "cell_type": "code",
   "execution_count": null,
   "metadata": {},
   "outputs": [],
   "source": []
  },
  {
   "cell_type": "code",
   "execution_count": null,
   "metadata": {},
   "outputs": [],
   "source": []
  },
  {
   "cell_type": "code",
   "execution_count": null,
   "metadata": {},
   "outputs": [],
   "source": []
  },
  {
   "cell_type": "code",
   "execution_count": null,
   "metadata": {},
   "outputs": [],
   "source": []
  },
  {
   "cell_type": "code",
   "execution_count": null,
   "metadata": {},
   "outputs": [],
   "source": []
  },
  {
   "cell_type": "code",
   "execution_count": null,
   "metadata": {},
   "outputs": [],
   "source": []
  },
  {
   "cell_type": "code",
   "execution_count": null,
   "metadata": {},
   "outputs": [],
   "source": []
  },
  {
   "cell_type": "code",
   "execution_count": null,
   "metadata": {},
   "outputs": [],
   "source": []
  },
  {
   "cell_type": "code",
   "execution_count": null,
   "metadata": {},
   "outputs": [],
   "source": []
  },
  {
   "cell_type": "code",
   "execution_count": null,
   "metadata": {},
   "outputs": [],
   "source": []
  },
  {
   "cell_type": "code",
   "execution_count": null,
   "metadata": {},
   "outputs": [],
   "source": []
  },
  {
   "cell_type": "code",
   "execution_count": null,
   "metadata": {},
   "outputs": [],
   "source": [
    "vars(aninst)"
   ]
  },
  {
   "cell_type": "code",
   "execution_count": null,
   "metadata": {},
   "outputs": [],
   "source": []
  },
  {
   "cell_type": "code",
   "execution_count": null,
   "metadata": {},
   "outputs": [],
   "source": []
  },
  {
   "cell_type": "code",
   "execution_count": null,
   "metadata": {},
   "outputs": [],
   "source": [
    "styleablename = am.get_manifest_attrib_name('Application')\n",
    "styleattribs = am.get_manifest_tag_attribs(styleablename)\n",
    "sorted(styleattribs)"
   ]
  },
  {
   "cell_type": "code",
   "execution_count": null,
   "metadata": {},
   "outputs": [],
   "source": [
    "itemparse = am.parse_component(application)\n",
    "itemparse"
   ]
  },
  {
   "cell_type": "code",
   "execution_count": null,
   "metadata": {},
   "outputs": [],
   "source": [
    "fields, fieldtypes = zip(*styleattribs)\n",
    "fields"
   ]
  },
  {
   "cell_type": "code",
   "execution_count": null,
   "metadata": {},
   "outputs": [],
   "source": [
    "android.R.styleable.AndroidManifest_versionName"
   ]
  },
  {
   "cell_type": "code",
   "execution_count": null,
   "metadata": {},
   "outputs": [],
   "source": [
    "aninst = ApplicationInfo()\n",
    "aninst"
   ]
  },
  {
   "cell_type": "code",
   "execution_count": null,
   "metadata": {},
   "outputs": [],
   "source": [
    "am.clasifyFields(fields, aninst)"
   ]
  },
  {
   "cell_type": "code",
   "execution_count": null,
   "metadata": {},
   "outputs": [],
   "source": [
    "styleable_id = android.R.styleable.AndroidManifest\n",
    "array = map(lambda x:am._resources._unpack_pointer(x).attrib, styleable_id)\n",
    "[(x['name'], x.get('format', 'String')) for x in array]"
   ]
  },
  {
   "cell_type": "code",
   "execution_count": null,
   "metadata": {},
   "outputs": [],
   "source": [
    "rid = android.R.attr.installLocation"
   ]
  },
  {
   "cell_type": "code",
   "execution_count": null,
   "metadata": {},
   "outputs": [],
   "source": [
    "elem = am._resources._unpack_pointer(rid)\n",
    "print elem.attrib\n",
    "for item in elem:\n",
    "    print item.attrib"
   ]
  },
  {
   "cell_type": "code",
   "execution_count": null,
   "metadata": {},
   "outputs": [],
   "source": []
  },
  {
   "cell_type": "code",
   "execution_count": null,
   "metadata": {},
   "outputs": [],
   "source": []
  },
  {
   "cell_type": "code",
   "execution_count": null,
   "metadata": {},
   "outputs": [],
   "source": [
    "context = dict(android=android.R)\n",
    "res = Resources(context)"
   ]
  },
  {
   "cell_type": "code",
   "execution_count": null,
   "metadata": {},
   "outputs": [],
   "source": [
    "def unpack_attribs(styleable_id):\n",
    "    styleable_id = filter(lambda x: bool(x), styleable_id)\n",
    "    array = map(lambda x:res._unpack_pointer(x).attrib, styleable_id)\n",
    "    return [(x['name'], x.get('format', 'String')) for x in array]"
   ]
  },
  {
   "cell_type": "markdown",
   "metadata": {},
   "source": [
    "#### Tipo de componente y resid"
   ]
  },
  {
   "cell_type": "code",
   "execution_count": null,
   "metadata": {},
   "outputs": [],
   "source": [
    "def get_manifest_attrib_name(tag_name):\n",
    "    equiv = {\n",
    "        'compatible-screens':'compatible-screens-screen',\n",
    "        'manifest':'',\n",
    "        'uses-permission-sdk-23':'uses-permission'\n",
    "            }\n",
    "    tag_name = equiv.get(tag_name, tag_name)\n",
    "    attrname = 'AndroidManifest' + tag_name.title().replace('-', '')\n",
    "    assert hasattr(android.R.styleable, attrname), 'No tag description'\n",
    "    return attrname"
   ]
  },
  {
   "cell_type": "code",
   "execution_count": null,
   "metadata": {},
   "outputs": [],
   "source": [
    "def get_manifest_tag_attibs(tag_name):\n",
    "    attrname = get_manifest_attrib_name(tag_name)\n",
    "    styleable_id = getattr(android.R.styleable, attrname)\n",
    "    styleable_id = filter(lambda x: bool(x), styleable_id)\n",
    "    array = map(lambda x:res._unpack_pointer(x).attrib, styleable_id)\n",
    "    return [(x['name'], x.get('format', 'String')) for x in array]"
   ]
  },
  {
   "cell_type": "code",
   "execution_count": null,
   "metadata": {},
   "outputs": [],
   "source": [
    "manifest_tags = [\n",
    "    '<action>',\n",
    "     '<activity>',\n",
    "     '<activity-alias>',\n",
    "     '<application>',\n",
    "     '<category>',\n",
    "     '<compatible-screens>', # <compatible-screens-screen>\n",
    "     '<data>',\n",
    "     '<grant-uri-permission>',\n",
    "     '<instrumentation>',\n",
    "     '<intent-filter>',\n",
    "     '<manifest>', # <>\n",
    "     '<meta-data>',\n",
    "     '<path-permission>',\n",
    "     '<permission>',\n",
    "     '<permission-group>',\n",
    "     '<permission-tree>',\n",
    "     '<provider>',\n",
    "     '<receiver>',\n",
    "     '<service>',\n",
    "     '<supports-gl-texture>',\n",
    "     '<supports-screens>',\n",
    "     '<uses-configuration>',\n",
    "     '<uses-feature>',\n",
    "     '<uses-library>',\n",
    "     '<uses-permission>',\n",
    "     '<uses-permission-sdk-23>', # '<uses-permission>'\n",
    "     '<uses-sdk>'\n",
    "]"
   ]
  },
  {
   "cell_type": "code",
   "execution_count": null,
   "metadata": {},
   "outputs": [],
   "source": [
    "get_manifest_tag_attibs('manifest')"
   ]
  },
  {
   "cell_type": "code",
   "execution_count": null,
   "metadata": {},
   "outputs": [],
   "source": [
    "filepath = '/media/amontesb/HITACHI/AndroidApps/TestActivity/AndroidManifest.xml'"
   ]
  },
  {
   "cell_type": "code",
   "execution_count": null,
   "metadata": {},
   "outputs": [],
   "source": [
    "manifest = parse_nsmap(filepath).getroot()\n",
    "manifest.tag"
   ]
  },
  {
   "cell_type": "code",
   "execution_count": null,
   "metadata": {},
   "outputs": [],
   "source": [
    "application = manifest[0]\n",
    "application.tag"
   ]
  },
  {
   "cell_type": "code",
   "execution_count": null,
   "metadata": {},
   "outputs": [],
   "source": [
    "for k, elem in enumerate(application):\n",
    "    print k, elem.tag"
   ]
  },
  {
   "cell_type": "code",
   "execution_count": null,
   "metadata": {},
   "outputs": [],
   "source": [
    "activity = application[1]\n",
    "activity.tag"
   ]
  },
  {
   "cell_type": "code",
   "execution_count": null,
   "metadata": {},
   "outputs": [],
   "source": [
    "activity.attrib"
   ]
  },
  {
   "cell_type": "code",
   "execution_count": null,
   "metadata": {},
   "outputs": [],
   "source": [
    "provider = application[0]\n",
    "provider.tag"
   ]
  },
  {
   "cell_type": "code",
   "execution_count": null,
   "metadata": {},
   "outputs": [],
   "source": [
    "def parse_component(etelement):\n",
    "    try:\n",
    "        etelement.attrib.pop('xmlns:map')\n",
    "    except:\n",
    "        pass\n",
    "    # Se limpian los prefijos de los items\n",
    "    attribitems = etelement.attrib.items()\n",
    "    keys, values = zip(*attribitems)\n",
    "    keys = [x.split('}')[-1] for x in keys]\n",
    "    attribset = dict(zip(keys, values))\n",
    "    manifest_attr_name = get_manifest_attrib_name(etelement.tag)\n",
    "    styleable_id = getattr(android.R.styleable, manifest_attr_name)\n",
    "    fieldvalues = res.obtainAtributes(attribset, styleable_id)\n",
    "    fieldnames = zip(*get_manifest_tag_attibs(etelement.tag))[0]\n",
    "    answ = [x for x in zip(fieldnames,fieldvalues) if x[0] in attribset]\n",
    "    attribset.update(answ)\n",
    "    return attribset.items()"
   ]
  },
  {
   "cell_type": "code",
   "execution_count": null,
   "metadata": {},
   "outputs": [],
   "source": [
    "parse_component(provider)"
   ]
  },
  {
   "cell_type": "code",
   "execution_count": null,
   "metadata": {},
   "outputs": [],
   "source": [
    "parse_component(manifest)"
   ]
  },
  {
   "cell_type": "code",
   "execution_count": null,
   "metadata": {},
   "outputs": [],
   "source": [
    "parse_component(activity)"
   ]
  },
  {
   "cell_type": "code",
   "execution_count": null,
   "metadata": {},
   "outputs": [],
   "source": []
  },
  {
   "cell_type": "code",
   "execution_count": null,
   "metadata": {},
   "outputs": [],
   "source": [
    "filepath = r'/media/amontesb/HITACHI/AndroidApps/Android/_tests/data/testAndroidManifest.xml'"
   ]
  },
  {
   "cell_type": "code",
   "execution_count": null,
   "metadata": {},
   "outputs": [],
   "source": [
    "manifest = parse_nsmap(filepath).getroot()\n",
    "manifest.tag"
   ]
  },
  {
   "cell_type": "code",
   "execution_count": null,
   "metadata": {},
   "outputs": [],
   "source": [
    "application = manifest[0]\n",
    "application.tag"
   ]
  },
  {
   "cell_type": "code",
   "execution_count": null,
   "metadata": {},
   "outputs": [],
   "source": [
    "for k, elem in enumerate(application):\n",
    "    print k, elem.tag"
   ]
  },
  {
   "cell_type": "code",
   "execution_count": null,
   "metadata": {},
   "outputs": [],
   "source": [
    "parse_component(application)"
   ]
  },
  {
   "cell_type": "code",
   "execution_count": null,
   "metadata": {},
   "outputs": [],
   "source": [
    "android.R.string.action_bar_home_description"
   ]
  },
  {
   "cell_type": "code",
   "execution_count": null,
   "metadata": {},
   "outputs": [],
   "source": [
    "res.getValue('@android:string/action_bar_home_description', None)"
   ]
  },
  {
   "cell_type": "code",
   "execution_count": null,
   "metadata": {},
   "outputs": [],
   "source": [
    "android.R.style.Animation__Holo"
   ]
  },
  {
   "cell_type": "code",
   "execution_count": null,
   "metadata": {},
   "outputs": [],
   "source": [
    "android.R.drawable.action_bar_divider"
   ]
  },
  {
   "cell_type": "code",
   "execution_count": null,
   "metadata": {},
   "outputs": [],
   "source": [
    "import inspect\n",
    "from Android.content.pm.ApplicationInfo import ApplicationInfo\n",
    "from Android.content.pm.ActivityInfo import ActivityInfo"
   ]
  },
  {
   "cell_type": "code",
   "execution_count": null,
   "metadata": {},
   "outputs": [],
   "source": [
    "def clasifyFields(fields, aninst):\n",
    "    def fromFlagToField(x):\n",
    "        w = x.split('_')[1:]\n",
    "        return reduce(lambda x, y: x + y.title(), w[1:], w[0].lower())\n",
    "    flagnames = filter(lambda x: x.startswith('FLAG_'), dir(inspect.getmodule(aninst)))\n",
    "    flags = map(fromFlagToField, flagnames)\n",
    "    fieldsFlags = set(fields).intersection(flags)\n",
    "    attribs = sorted(vars(aninst).keys())\n",
    "    fieldsAttribs = set(fields).intersection(attribs)\n",
    "    unclassFields = set(fields).difference(fieldsFlags.union(fieldsAttribs))\n",
    "    return fieldsFlags, fieldsAttribs, unclassFields"
   ]
  },
  {
   "cell_type": "code",
   "execution_count": null,
   "metadata": {},
   "outputs": [],
   "source": [
    "tagname = 'Activity'\n",
    "tag_attribs = get_manifest_tag_attibs(tagname)\n",
    "\n",
    "fields, fieldtypes = zip(*tag_attribs)\n",
    "aninst = ActivityInfo()"
   ]
  },
  {
   "cell_type": "code",
   "execution_count": null,
   "metadata": {},
   "outputs": [],
   "source": [
    "flags, attribs, _fields = clasifyFields(fields, aninst)\n",
    "flags, attribs, _fields"
   ]
  },
  {
   "cell_type": "code",
   "execution_count": null,
   "metadata": {},
   "outputs": [],
   "source": [
    "aninst.loadLabel"
   ]
  },
  {
   "cell_type": "code",
   "execution_count": null,
   "metadata": {},
   "outputs": [],
   "source": [
    "def processAndroidManifest(self, manifest_path):\n",
    "        import pickle\n",
    "        from Android.IntentFilter import IntentFilter\n",
    "\n",
    "        manifest_file = os.path.join(manifest_path, 'AndroidManifest.xml')\n",
    "        db = self.getWritableDatabase()\n",
    "        insertValueMap = lambda table_class, valueMap: \\\n",
    "            db.insert(table_class.TABLE_NAME, None, valueMap)\n",
    "\n",
    "        stack = collections.deque()\n",
    "        root = self.parse_nsmap(manifest_file).getroot()\n",
    "        package = root.attrib.pop('package')\n",
    "\n",
    "        valueMap = dict(name=package, path=manifest_path)\n",
    "        package_id = insertValueMap(PACKAGE_TABLE, valueMap)\n",
    "\n",
    "        stack.append((-1, root))\n",
    "        while stack:\n",
    "            parent_id, element = stack.popleft()\n",
    "            # items = [(key.split('}')[-1], value) for key, value in element.items()]\n",
    "            tag, attrib = element.tag, element.attrib\n",
    "            if tag == 'intent-filter':\n",
    "                ifilter = IntentFilter()\n",
    "                ifilter.readFromXml(element)\n",
    "                content = pickle.dumps(ifilter)\n",
    "                element = []\n",
    "            else:\n",
    "                content = ' '.join(['%s=\"%s\"' % x for x in attrib.items()])\n",
    "            valueMap = dict(package_id=package_id, parent=parent_id,\n",
    "                            tag_type=tag, content=content)\n",
    "            tagid = insertValueMap(COMPONENTS_TABLE, valueMap)\n",
    "            stack.extend([(tagid, item) for item in element])\n"
   ]
  }
 ],
 "metadata": {
  "kernelspec": {
   "display_name": "Python 2",
   "language": "python",
   "name": "python2"
  },
  "language_info": {
   "codemirror_mode": {
    "name": "ipython",
    "version": 2
   },
   "file_extension": ".py",
   "mimetype": "text/x-python",
   "name": "python",
   "nbconvert_exporter": "python",
   "pygments_lexer": "ipython2",
   "version": "2.7.15rc1"
  }
 },
 "nbformat": 4,
 "nbformat_minor": 2
}
