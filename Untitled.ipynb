{
 "cells": [
  {
   "cell_type": "code",
   "execution_count": 178,
   "metadata": {},
   "outputs": [],
   "source": [
    "class overload(object):\n",
    "    def __init__(self, afunc):\n",
    "        self._signature = []\n",
    "        self._func = []\n",
    "        self._instance = None\n",
    "        self._deffunc = afunc\n",
    "    def adddef(self, *args):\n",
    "        def wrapped(func):\n",
    "            self._signature.append(args)\n",
    "            self._func.append(func)\n",
    "            return self\n",
    "        return wrapped\n",
    "    def __get__(self, instance, owner=None):\n",
    "        self._instance = instance\n",
    "        return self\n",
    "    def __call__(self, *args):\n",
    "        argsclass = tuple(map(lambda x: x.__class__.__name__, args))\n",
    "        print argsclass\n",
    "        try:\n",
    "            npos = self._signature.index(argsclass)\n",
    "            func = self._func[npos]\n",
    "        except:\n",
    "            func = self._deffunc\n",
    "        try:\n",
    "            return func(self._instance, *args)\n",
    "        except TypeError as e:\n",
    "            print str(e)\n",
    "            name = self._deffunc.__name__\n",
    "            argsclass = ' ,'.join(argsclass)\n",
    "            raise TypeError('%s(%s), unknown function signature' % (name, argsclass))"
   ]
  },
  {
   "cell_type": "code",
   "execution_count": 179,
   "metadata": {},
   "outputs": [],
   "source": [
    "class BaseA(object):\n",
    "    pass"
   ]
  },
  {
   "cell_type": "code",
   "execution_count": 180,
   "metadata": {},
   "outputs": [],
   "source": [
    "class A(BaseA):\n",
    "    @overload\n",
    "    def __init__(self):\n",
    "        print 'arg1', self\n",
    "        super(A, self).__init__()\n",
    "        print 'create'\n",
    "    @__init__.adddef('A', 'int')\n",
    "    def A(self, aint):\n",
    "        print 'arg1', self, 'arg2', aint\n",
    "        self.__init__()\n",
    "        print 'un entero', aint\n",
    "    @overload\n",
    "    def metodo(self):\n",
    "        print 'nothing to show'\n",
    "        return 1234456\n",
    "    @metodo.adddef('A', 'float')\n",
    "    def metodo(self, afloat):\n",
    "        print 'un float', afloat\n",
    "        return afloat\n",
    "    @metodo.adddef('A', 'str')\n",
    "    def metodo(self, astring):\n",
    "        print 'una string', astring\n",
    "        return astring\n",
    "    def metodob(self, aint, astring):\n",
    "        print 'int, str', aint, astring"
   ]
  },
  {
   "cell_type": "code",
   "execution_count": 181,
   "metadata": {},
   "outputs": [
    {
     "name": "stdout",
     "output_type": "stream",
     "text": [
      "()\n",
      "arg1 <__main__.A object at 0x7fdc5ede2a50>\n",
      "create\n"
     ]
    },
    {
     "data": {
      "text/plain": [
       "<__main__.A at 0x7fdc5ede2a50>"
      ]
     },
     "execution_count": 181,
     "metadata": {},
     "output_type": "execute_result"
    }
   ],
   "source": [
    "a = A()\n",
    "a"
   ]
  },
  {
   "cell_type": "code",
   "execution_count": 138,
   "metadata": {},
   "outputs": [
    {
     "name": "stdout",
     "output_type": "stream",
     "text": [
      "('float',)\n",
      "un float 1.5\n"
     ]
    },
    {
     "data": {
      "text/plain": [
       "1.5"
      ]
     },
     "execution_count": 138,
     "metadata": {},
     "output_type": "execute_result"
    }
   ],
   "source": [
    "a.metodo(1.5)"
   ]
  },
  {
   "cell_type": "code",
   "execution_count": 139,
   "metadata": {},
   "outputs": [
    {
     "name": "stdout",
     "output_type": "stream",
     "text": [
      "int, str 3 alex\n"
     ]
    }
   ],
   "source": [
    "a.metodob(3, 'alex')"
   ]
  },
  {
   "cell_type": "code",
   "execution_count": 182,
   "metadata": {},
   "outputs": [],
   "source": [
    "import ctypes"
   ]
  },
  {
   "cell_type": "code",
   "execution_count": 183,
   "metadata": {},
   "outputs": [],
   "source": [
    "intarray = (10*ctypes.c_int)()"
   ]
  },
  {
   "cell_type": "code",
   "execution_count": 187,
   "metadata": {},
   "outputs": [],
   "source": [
    "intarray[0]=23"
   ]
  },
  {
   "cell_type": "code",
   "execution_count": 194,
   "metadata": {},
   "outputs": [
    {
     "ename": "TypeError",
     "evalue": "int expected instead of float",
     "output_type": "error",
     "traceback": [
      "\u001b[0;31m\u001b[0m",
      "\u001b[0;31mTypeError\u001b[0mTraceback (most recent call last)",
      "\u001b[0;32m<ipython-input-194-ddbf23d2d13f>\u001b[0m in \u001b[0;36m<module>\u001b[0;34m()\u001b[0m\n\u001b[0;32m----> 1\u001b[0;31m \u001b[0mintarray\u001b[0m\u001b[0;34m[\u001b[0m\u001b[0;34m:\u001b[0m\u001b[0;36m3\u001b[0m\u001b[0;34m]\u001b[0m \u001b[0;34m=\u001b[0m \u001b[0;34m[\u001b[0m\u001b[0;36m1.1\u001b[0m\u001b[0;34m,\u001b[0m\u001b[0;36m2\u001b[0m\u001b[0;34m,\u001b[0m\u001b[0;36m3\u001b[0m\u001b[0;34m]\u001b[0m\u001b[0;34m\u001b[0m\u001b[0m\n\u001b[0m",
      "\u001b[0;31mTypeError\u001b[0m: int expected instead of float"
     ]
    }
   ],
   "source": [
    "intarray[:3] = [1.1,2,3]"
   ]
  },
  {
   "cell_type": "code",
   "execution_count": 192,
   "metadata": {},
   "outputs": [
    {
     "data": {
      "text/plain": [
       "[1, 2, 3]"
      ]
     },
     "execution_count": 192,
     "metadata": {},
     "output_type": "execute_result"
    }
   ],
   "source": [
    "intarray[:3]"
   ]
  },
  {
   "cell_type": "code",
   "execution_count": 195,
   "metadata": {},
   "outputs": [],
   "source": [
    "boolarray = (10*ctypes.c_bool)()"
   ]
  },
  {
   "cell_type": "code",
   "execution_count": 200,
   "metadata": {},
   "outputs": [
    {
     "data": {
      "text/plain": [
       "[True, True, False, False, False, False, False, False, False, False]"
      ]
     },
     "execution_count": 200,
     "metadata": {},
     "output_type": "execute_result"
    }
   ],
   "source": [
    "boolarray[:3] = [True, 3, False]\n",
    "boolarray[:]"
   ]
  },
  {
   "cell_type": "code",
   "execution_count": 201,
   "metadata": {},
   "outputs": [],
   "source": [
    "import numpy as np"
   ]
  },
  {
   "cell_type": "code",
   "execution_count": 202,
   "metadata": {},
   "outputs": [],
   "source": [
    "a = np.array(intarray)"
   ]
  },
  {
   "cell_type": "code",
   "execution_count": 205,
   "metadata": {},
   "outputs": [
    {
     "data": {
      "text/plain": [
       "1"
      ]
     },
     "execution_count": 205,
     "metadata": {},
     "output_type": "execute_result"
    }
   ],
   "source": [
    "a[0]=23\n",
    "intarray[0]"
   ]
  },
  {
   "cell_type": "code",
   "execution_count": 206,
   "metadata": {},
   "outputs": [],
   "source": [
    "b = bytearray('alex')"
   ]
  },
  {
   "cell_type": "code",
   "execution_count": 207,
   "metadata": {},
   "outputs": [],
   "source": [
    "a = np.array(b)"
   ]
  },
  {
   "cell_type": "code",
   "execution_count": 212,
   "metadata": {},
   "outputs": [],
   "source": [
    "a[0]=65"
   ]
  },
  {
   "cell_type": "code",
   "execution_count": 213,
   "metadata": {},
   "outputs": [
    {
     "data": {
      "text/plain": [
       "97"
      ]
     },
     "execution_count": 213,
     "metadata": {},
     "output_type": "execute_result"
    }
   ],
   "source": [
    "b[0]"
   ]
  }
 ],
 "metadata": {
  "kernelspec": {
   "display_name": "Python 2",
   "language": "python",
   "name": "python2"
  },
  "language_info": {
   "codemirror_mode": {
    "name": "ipython",
    "version": 2
   },
   "file_extension": ".py",
   "mimetype": "text/x-python",
   "name": "python",
   "nbconvert_exporter": "python",
   "pygments_lexer": "ipython2",
   "version": "2.7.15rc1"
  }
 },
 "nbformat": 4,
 "nbformat_minor": 2
}
